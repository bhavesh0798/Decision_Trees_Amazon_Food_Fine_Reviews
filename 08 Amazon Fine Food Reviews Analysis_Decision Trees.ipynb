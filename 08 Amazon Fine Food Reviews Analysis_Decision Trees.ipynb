{
 "cells": [
  {
   "cell_type": "markdown",
   "metadata": {
    "colab_type": "text",
    "id": "IXmtUCbYiWM3"
   },
   "source": [
    "# Amazon Fine Food Reviews Analysis\n",
    "\n",
    "\n",
    "Data Source: https://www.kaggle.com/snap/amazon-fine-food-reviews <br>\n",
    "\n",
    "EDA: https://nycdatascience.com/blog/student-works/amazon-fine-foods-visualization/\n",
    "\n",
    "\n",
    "The Amazon Fine Food Reviews dataset consists of reviews of fine foods from Amazon.<br>\n",
    "\n",
    "Number of reviews: 568,454<br>\n",
    "Number of users: 256,059<br>\n",
    "Number of products: 74,258<br>\n",
    "Timespan: Oct 1999 - Oct 2012<br>\n",
    "Number of Attributes/Columns in data: 10 \n",
    "\n",
    "Attribute Information:\n",
    "\n",
    "1. Id\n",
    "2. ProductId - unique identifier for the product\n",
    "3. UserId - unqiue identifier for the user\n",
    "4. ProfileName\n",
    "5. HelpfulnessNumerator - number of users who found the review helpful\n",
    "6. HelpfulnessDenominator - number of users who indicated whether they found the review helpful or not\n",
    "7. Score - rating between 1 and 5\n",
    "8. Time - timestamp for the review\n",
    "9. Summary - brief summary of the review\n",
    "10. Text - text of the review\n",
    "\n",
    "\n",
    "#### Objective:\n",
    "Given a review, determine whether the review is positive (rating of 4 or 5) or negative (rating of 1 or 2).\n",
    "\n",
    "<br>\n",
    "[Q] How to determine if a review is positive or negative?<br>\n",
    "<br> \n",
    "[Ans] We could use Score/Rating. A rating of 4 or 5 can be cosnidered as a positive review. A rating of 1 or 2 can be considered as negative one. A review of rating 3 is considered nuetral and such reviews are ignored from our analysis. This is an approximate and proxy way of determining the polarity (positivity/negativity) of a review.\n",
    "\n",
    "\n"
   ]
  },
  {
   "cell_type": "markdown",
   "metadata": {
    "colab_type": "text",
    "id": "syeYHDR_iWM7"
   },
   "source": [
    "# [1]. Reading Data"
   ]
  },
  {
   "cell_type": "markdown",
   "metadata": {
    "colab_type": "text",
    "id": "D_eZrQC0iWM9"
   },
   "source": [
    "## [1.1] Loading the data\n",
    "\n",
    "The dataset is available in two forms\n",
    "1. .csv file\n",
    "2. SQLite Database\n",
    "\n",
    "In order to load the data, We have used the SQLITE dataset as it is easier to query the data and visualise the data efficiently.\n",
    "<br> \n",
    "\n",
    "Here as we only want to get the global sentiment of the recommendations (positive or negative), we will purposefully ignore all Scores equal to 3. If the score is above 3, then the recommendation wil be set to \"positive\". Otherwise, it will be set to \"negative\"."
   ]
  },
  {
   "cell_type": "code",
   "execution_count": 1,
   "metadata": {
    "colab": {},
    "colab_type": "code",
    "id": "53fLFqf8iWNA"
   },
   "outputs": [],
   "source": [
    "%matplotlib inline\n",
    "import warnings\n",
    "warnings.filterwarnings(\"ignore\")\n",
    "\n",
    "\n",
    "import sqlite3\n",
    "import pandas as pd\n",
    "import numpy as np\n",
    "import nltk\n",
    "import string\n",
    "import matplotlib.pyplot as plt\n",
    "import seaborn as sns\n",
    "from sklearn.feature_extraction.text import TfidfTransformer\n",
    "from sklearn.feature_extraction.text import TfidfVectorizer\n",
    "\n",
    "from sklearn.feature_extraction.text import CountVectorizer\n",
    "from sklearn.metrics import confusion_matrix\n",
    "from sklearn import metrics\n",
    "from sklearn.metrics import roc_curve, auc\n",
    "from nltk.stem.porter import PorterStemmer\n",
    "\n",
    "import re\n",
    "# Tutorial about Python regular expressions: https://pymotw.com/2/re/\n",
    "import string\n",
    "from nltk.corpus import stopwords\n",
    "from nltk.stem import PorterStemmer\n",
    "from nltk.stem.wordnet import WordNetLemmatizer\n",
    "\n",
    "from gensim.models import Word2Vec\n",
    "from gensim.models import KeyedVectors\n",
    "import pickle\n",
    "\n",
    "from tqdm import tqdm\n",
    "import os"
   ]
  },
  {
   "cell_type": "code",
   "execution_count": 2,
   "metadata": {
    "colab": {},
    "colab_type": "code",
    "id": "j3kshrC-iWNI",
    "outputId": "07826916-2c3f-4a0a-e928-ddbc6d567a11"
   },
   "outputs": [
    {
     "name": "stdout",
     "output_type": "stream",
     "text": [
      "Number of data points in our data (525814, 10)\n"
     ]
    },
    {
     "data": {
      "text/html": [
       "<div>\n",
       "<style scoped>\n",
       "    .dataframe tbody tr th:only-of-type {\n",
       "        vertical-align: middle;\n",
       "    }\n",
       "\n",
       "    .dataframe tbody tr th {\n",
       "        vertical-align: top;\n",
       "    }\n",
       "\n",
       "    .dataframe thead th {\n",
       "        text-align: right;\n",
       "    }\n",
       "</style>\n",
       "<table border=\"1\" class=\"dataframe\">\n",
       "  <thead>\n",
       "    <tr style=\"text-align: right;\">\n",
       "      <th></th>\n",
       "      <th>Id</th>\n",
       "      <th>ProductId</th>\n",
       "      <th>UserId</th>\n",
       "      <th>ProfileName</th>\n",
       "      <th>HelpfulnessNumerator</th>\n",
       "      <th>HelpfulnessDenominator</th>\n",
       "      <th>Score</th>\n",
       "      <th>Time</th>\n",
       "      <th>Summary</th>\n",
       "      <th>Text</th>\n",
       "    </tr>\n",
       "  </thead>\n",
       "  <tbody>\n",
       "    <tr>\n",
       "      <td>0</td>\n",
       "      <td>1</td>\n",
       "      <td>B001E4KFG0</td>\n",
       "      <td>A3SGXH7AUHU8GW</td>\n",
       "      <td>delmartian</td>\n",
       "      <td>1</td>\n",
       "      <td>1</td>\n",
       "      <td>1</td>\n",
       "      <td>1303862400</td>\n",
       "      <td>Good Quality Dog Food</td>\n",
       "      <td>I have bought several of the Vitality canned d...</td>\n",
       "    </tr>\n",
       "    <tr>\n",
       "      <td>1</td>\n",
       "      <td>2</td>\n",
       "      <td>B00813GRG4</td>\n",
       "      <td>A1D87F6ZCVE5NK</td>\n",
       "      <td>dll pa</td>\n",
       "      <td>0</td>\n",
       "      <td>0</td>\n",
       "      <td>0</td>\n",
       "      <td>1346976000</td>\n",
       "      <td>Not as Advertised</td>\n",
       "      <td>Product arrived labeled as Jumbo Salted Peanut...</td>\n",
       "    </tr>\n",
       "    <tr>\n",
       "      <td>2</td>\n",
       "      <td>3</td>\n",
       "      <td>B000LQOCH0</td>\n",
       "      <td>ABXLMWJIXXAIN</td>\n",
       "      <td>Natalia Corres \"Natalia Corres\"</td>\n",
       "      <td>1</td>\n",
       "      <td>1</td>\n",
       "      <td>1</td>\n",
       "      <td>1219017600</td>\n",
       "      <td>\"Delight\" says it all</td>\n",
       "      <td>This is a confection that has been around a fe...</td>\n",
       "    </tr>\n",
       "  </tbody>\n",
       "</table>\n",
       "</div>"
      ],
      "text/plain": [
       "   Id   ProductId          UserId                      ProfileName  \\\n",
       "0   1  B001E4KFG0  A3SGXH7AUHU8GW                       delmartian   \n",
       "1   2  B00813GRG4  A1D87F6ZCVE5NK                           dll pa   \n",
       "2   3  B000LQOCH0   ABXLMWJIXXAIN  Natalia Corres \"Natalia Corres\"   \n",
       "\n",
       "   HelpfulnessNumerator  HelpfulnessDenominator  Score        Time  \\\n",
       "0                     1                       1      1  1303862400   \n",
       "1                     0                       0      0  1346976000   \n",
       "2                     1                       1      1  1219017600   \n",
       "\n",
       "                 Summary                                               Text  \n",
       "0  Good Quality Dog Food  I have bought several of the Vitality canned d...  \n",
       "1      Not as Advertised  Product arrived labeled as Jumbo Salted Peanut...  \n",
       "2  \"Delight\" says it all  This is a confection that has been around a fe...  "
      ]
     },
     "execution_count": 2,
     "metadata": {},
     "output_type": "execute_result"
    }
   ],
   "source": [
    "# using SQLite Table to read data.\n",
    "con = sqlite3.connect('database.sqlite') \n",
    "\n",
    "# filtering only positive and negative reviews i.e. \n",
    "# not taking into consideration those reviews with Score=3\n",
    "# SELECT * FROM Reviews WHERE Score != 3 LIMIT 500000, will give top 500000 data points\n",
    "# you can change the number to any other number based on your computing power\n",
    "\n",
    "# filtered_data = pd.read_sql_query(\"\"\" SELECT * FROM Reviews WHERE Score != 3 LIMIT 500000\"\"\", con) \n",
    "# for tsne assignment you can take 5k data points\n",
    "\n",
    "filtered_data = pd.read_sql_query(\"\"\" SELECT * FROM Reviews WHERE Score != 3\"\"\", con) \n",
    "\n",
    "# Give reviews with Score>3 a positive rating(1), and reviews with a score<3 a negative rating(0).\n",
    "def partition(x):\n",
    "    if x < 3:\n",
    "        return 0\n",
    "    return 1\n",
    "\n",
    "#changing reviews with score less than 3 to be positive and vice-versa\n",
    "actualScore = filtered_data['Score']\n",
    "positiveNegative = actualScore.map(partition) \n",
    "filtered_data['Score'] = positiveNegative\n",
    "print(\"Number of data points in our data\", filtered_data.shape)\n",
    "filtered_data.head(3)"
   ]
  },
  {
   "cell_type": "code",
   "execution_count": 3,
   "metadata": {
    "colab": {},
    "colab_type": "code",
    "id": "-7Iy8yWfiWNR"
   },
   "outputs": [],
   "source": [
    "display = pd.read_sql_query(\"\"\"\n",
    "SELECT UserId, ProductId, ProfileName, Time, Score, Text, COUNT(*)\n",
    "FROM Reviews\n",
    "GROUP BY UserId\n",
    "HAVING COUNT(*)>1\n",
    "\"\"\", con)"
   ]
  },
  {
   "cell_type": "code",
   "execution_count": 4,
   "metadata": {
    "colab": {},
    "colab_type": "code",
    "id": "wuK6OYpOiWNV",
    "outputId": "5cb5082e-47b9-4d4b-cf90-fc6ffe0dceeb",
    "scrolled": true
   },
   "outputs": [
    {
     "name": "stdout",
     "output_type": "stream",
     "text": [
      "(80668, 7)\n"
     ]
    },
    {
     "data": {
      "text/html": [
       "<div>\n",
       "<style scoped>\n",
       "    .dataframe tbody tr th:only-of-type {\n",
       "        vertical-align: middle;\n",
       "    }\n",
       "\n",
       "    .dataframe tbody tr th {\n",
       "        vertical-align: top;\n",
       "    }\n",
       "\n",
       "    .dataframe thead th {\n",
       "        text-align: right;\n",
       "    }\n",
       "</style>\n",
       "<table border=\"1\" class=\"dataframe\">\n",
       "  <thead>\n",
       "    <tr style=\"text-align: right;\">\n",
       "      <th></th>\n",
       "      <th>UserId</th>\n",
       "      <th>ProductId</th>\n",
       "      <th>ProfileName</th>\n",
       "      <th>Time</th>\n",
       "      <th>Score</th>\n",
       "      <th>Text</th>\n",
       "      <th>COUNT(*)</th>\n",
       "    </tr>\n",
       "  </thead>\n",
       "  <tbody>\n",
       "    <tr>\n",
       "      <td>0</td>\n",
       "      <td>#oc-R115TNMSPFT9I7</td>\n",
       "      <td>B007Y59HVM</td>\n",
       "      <td>Breyton</td>\n",
       "      <td>1331510400</td>\n",
       "      <td>2</td>\n",
       "      <td>Overall its just OK when considering the price...</td>\n",
       "      <td>2</td>\n",
       "    </tr>\n",
       "    <tr>\n",
       "      <td>1</td>\n",
       "      <td>#oc-R11D9D7SHXIJB9</td>\n",
       "      <td>B005HG9ET0</td>\n",
       "      <td>Louis E. Emory \"hoppy\"</td>\n",
       "      <td>1342396800</td>\n",
       "      <td>5</td>\n",
       "      <td>My wife has recurring extreme muscle spasms, u...</td>\n",
       "      <td>3</td>\n",
       "    </tr>\n",
       "    <tr>\n",
       "      <td>2</td>\n",
       "      <td>#oc-R11DNU2NBKQ23Z</td>\n",
       "      <td>B007Y59HVM</td>\n",
       "      <td>Kim Cieszykowski</td>\n",
       "      <td>1348531200</td>\n",
       "      <td>1</td>\n",
       "      <td>This coffee is horrible and unfortunately not ...</td>\n",
       "      <td>2</td>\n",
       "    </tr>\n",
       "    <tr>\n",
       "      <td>3</td>\n",
       "      <td>#oc-R11O5J5ZVQE25C</td>\n",
       "      <td>B005HG9ET0</td>\n",
       "      <td>Penguin Chick</td>\n",
       "      <td>1346889600</td>\n",
       "      <td>5</td>\n",
       "      <td>This will be the bottle that you grab from the...</td>\n",
       "      <td>3</td>\n",
       "    </tr>\n",
       "    <tr>\n",
       "      <td>4</td>\n",
       "      <td>#oc-R12KPBODL2B5ZD</td>\n",
       "      <td>B007OSBE1U</td>\n",
       "      <td>Christopher P. Presta</td>\n",
       "      <td>1348617600</td>\n",
       "      <td>1</td>\n",
       "      <td>I didnt like this coffee. Instead of telling y...</td>\n",
       "      <td>2</td>\n",
       "    </tr>\n",
       "  </tbody>\n",
       "</table>\n",
       "</div>"
      ],
      "text/plain": [
       "               UserId   ProductId             ProfileName        Time  Score  \\\n",
       "0  #oc-R115TNMSPFT9I7  B007Y59HVM                 Breyton  1331510400      2   \n",
       "1  #oc-R11D9D7SHXIJB9  B005HG9ET0  Louis E. Emory \"hoppy\"  1342396800      5   \n",
       "2  #oc-R11DNU2NBKQ23Z  B007Y59HVM        Kim Cieszykowski  1348531200      1   \n",
       "3  #oc-R11O5J5ZVQE25C  B005HG9ET0           Penguin Chick  1346889600      5   \n",
       "4  #oc-R12KPBODL2B5ZD  B007OSBE1U   Christopher P. Presta  1348617600      1   \n",
       "\n",
       "                                                Text  COUNT(*)  \n",
       "0  Overall its just OK when considering the price...         2  \n",
       "1  My wife has recurring extreme muscle spasms, u...         3  \n",
       "2  This coffee is horrible and unfortunately not ...         2  \n",
       "3  This will be the bottle that you grab from the...         3  \n",
       "4  I didnt like this coffee. Instead of telling y...         2  "
      ]
     },
     "execution_count": 4,
     "metadata": {},
     "output_type": "execute_result"
    }
   ],
   "source": [
    "print(display.shape)\n",
    "display.head()"
   ]
  },
  {
   "cell_type": "code",
   "execution_count": 5,
   "metadata": {
    "colab": {},
    "colab_type": "code",
    "id": "OMKVKkH7iWNZ",
    "outputId": "acc9d31a-27a1-48a1-d2f2-ce1f2e511793"
   },
   "outputs": [
    {
     "data": {
      "text/html": [
       "<div>\n",
       "<style scoped>\n",
       "    .dataframe tbody tr th:only-of-type {\n",
       "        vertical-align: middle;\n",
       "    }\n",
       "\n",
       "    .dataframe tbody tr th {\n",
       "        vertical-align: top;\n",
       "    }\n",
       "\n",
       "    .dataframe thead th {\n",
       "        text-align: right;\n",
       "    }\n",
       "</style>\n",
       "<table border=\"1\" class=\"dataframe\">\n",
       "  <thead>\n",
       "    <tr style=\"text-align: right;\">\n",
       "      <th></th>\n",
       "      <th>UserId</th>\n",
       "      <th>ProductId</th>\n",
       "      <th>ProfileName</th>\n",
       "      <th>Time</th>\n",
       "      <th>Score</th>\n",
       "      <th>Text</th>\n",
       "      <th>COUNT(*)</th>\n",
       "    </tr>\n",
       "  </thead>\n",
       "  <tbody>\n",
       "    <tr>\n",
       "      <td>80638</td>\n",
       "      <td>AZY10LLTJ71NX</td>\n",
       "      <td>B006P7E5ZI</td>\n",
       "      <td>undertheshrine \"undertheshrine\"</td>\n",
       "      <td>1334707200</td>\n",
       "      <td>5</td>\n",
       "      <td>I was recommended to try green tea extract to ...</td>\n",
       "      <td>5</td>\n",
       "    </tr>\n",
       "  </tbody>\n",
       "</table>\n",
       "</div>"
      ],
      "text/plain": [
       "              UserId   ProductId                      ProfileName        Time  \\\n",
       "80638  AZY10LLTJ71NX  B006P7E5ZI  undertheshrine \"undertheshrine\"  1334707200   \n",
       "\n",
       "       Score                                               Text  COUNT(*)  \n",
       "80638      5  I was recommended to try green tea extract to ...         5  "
      ]
     },
     "execution_count": 5,
     "metadata": {},
     "output_type": "execute_result"
    }
   ],
   "source": [
    "display[display['UserId']=='AZY10LLTJ71NX']"
   ]
  },
  {
   "cell_type": "code",
   "execution_count": 6,
   "metadata": {
    "colab": {},
    "colab_type": "code",
    "id": "s37uqS_jiWNe",
    "outputId": "489f08d4-48a2-4e82-bfc1-4f982f35b2e4"
   },
   "outputs": [
    {
     "data": {
      "text/plain": [
       "393063"
      ]
     },
     "execution_count": 6,
     "metadata": {},
     "output_type": "execute_result"
    }
   ],
   "source": [
    "display['COUNT(*)'].sum()"
   ]
  },
  {
   "cell_type": "markdown",
   "metadata": {
    "colab_type": "text",
    "id": "efnNNqNfiWNh"
   },
   "source": [
    "#  [2] Exploratory Data Analysis"
   ]
  },
  {
   "cell_type": "markdown",
   "metadata": {
    "colab_type": "text",
    "id": "Eq0hnbxhiWNi"
   },
   "source": [
    "## [2.1] Data Cleaning: Deduplication\n",
    "\n",
    "It is observed (as shown in the table below) that the reviews data had many duplicate entries. Hence it was necessary to remove duplicates in order to get unbiased results for the analysis of the data.  Following is an example:"
   ]
  },
  {
   "cell_type": "code",
   "execution_count": 7,
   "metadata": {
    "colab": {},
    "colab_type": "code",
    "id": "3CKLJ2FFiWNj",
    "outputId": "c995e0c8-7ef1-48a0-d7a9-b0cc50efaa83",
    "scrolled": false
   },
   "outputs": [
    {
     "data": {
      "text/html": [
       "<div>\n",
       "<style scoped>\n",
       "    .dataframe tbody tr th:only-of-type {\n",
       "        vertical-align: middle;\n",
       "    }\n",
       "\n",
       "    .dataframe tbody tr th {\n",
       "        vertical-align: top;\n",
       "    }\n",
       "\n",
       "    .dataframe thead th {\n",
       "        text-align: right;\n",
       "    }\n",
       "</style>\n",
       "<table border=\"1\" class=\"dataframe\">\n",
       "  <thead>\n",
       "    <tr style=\"text-align: right;\">\n",
       "      <th></th>\n",
       "      <th>Id</th>\n",
       "      <th>ProductId</th>\n",
       "      <th>UserId</th>\n",
       "      <th>ProfileName</th>\n",
       "      <th>HelpfulnessNumerator</th>\n",
       "      <th>HelpfulnessDenominator</th>\n",
       "      <th>Score</th>\n",
       "      <th>Time</th>\n",
       "      <th>Summary</th>\n",
       "      <th>Text</th>\n",
       "    </tr>\n",
       "  </thead>\n",
       "  <tbody>\n",
       "    <tr>\n",
       "      <td>0</td>\n",
       "      <td>78445</td>\n",
       "      <td>B000HDL1RQ</td>\n",
       "      <td>AR5J8UI46CURR</td>\n",
       "      <td>Geetha Krishnan</td>\n",
       "      <td>2</td>\n",
       "      <td>2</td>\n",
       "      <td>5</td>\n",
       "      <td>1199577600</td>\n",
       "      <td>LOACKER QUADRATINI VANILLA WAFERS</td>\n",
       "      <td>DELICIOUS WAFERS. I FIND THAT EUROPEAN WAFERS ...</td>\n",
       "    </tr>\n",
       "    <tr>\n",
       "      <td>1</td>\n",
       "      <td>138317</td>\n",
       "      <td>B000HDOPYC</td>\n",
       "      <td>AR5J8UI46CURR</td>\n",
       "      <td>Geetha Krishnan</td>\n",
       "      <td>2</td>\n",
       "      <td>2</td>\n",
       "      <td>5</td>\n",
       "      <td>1199577600</td>\n",
       "      <td>LOACKER QUADRATINI VANILLA WAFERS</td>\n",
       "      <td>DELICIOUS WAFERS. I FIND THAT EUROPEAN WAFERS ...</td>\n",
       "    </tr>\n",
       "    <tr>\n",
       "      <td>2</td>\n",
       "      <td>138277</td>\n",
       "      <td>B000HDOPYM</td>\n",
       "      <td>AR5J8UI46CURR</td>\n",
       "      <td>Geetha Krishnan</td>\n",
       "      <td>2</td>\n",
       "      <td>2</td>\n",
       "      <td>5</td>\n",
       "      <td>1199577600</td>\n",
       "      <td>LOACKER QUADRATINI VANILLA WAFERS</td>\n",
       "      <td>DELICIOUS WAFERS. I FIND THAT EUROPEAN WAFERS ...</td>\n",
       "    </tr>\n",
       "    <tr>\n",
       "      <td>3</td>\n",
       "      <td>73791</td>\n",
       "      <td>B000HDOPZG</td>\n",
       "      <td>AR5J8UI46CURR</td>\n",
       "      <td>Geetha Krishnan</td>\n",
       "      <td>2</td>\n",
       "      <td>2</td>\n",
       "      <td>5</td>\n",
       "      <td>1199577600</td>\n",
       "      <td>LOACKER QUADRATINI VANILLA WAFERS</td>\n",
       "      <td>DELICIOUS WAFERS. I FIND THAT EUROPEAN WAFERS ...</td>\n",
       "    </tr>\n",
       "    <tr>\n",
       "      <td>4</td>\n",
       "      <td>155049</td>\n",
       "      <td>B000PAQ75C</td>\n",
       "      <td>AR5J8UI46CURR</td>\n",
       "      <td>Geetha Krishnan</td>\n",
       "      <td>2</td>\n",
       "      <td>2</td>\n",
       "      <td>5</td>\n",
       "      <td>1199577600</td>\n",
       "      <td>LOACKER QUADRATINI VANILLA WAFERS</td>\n",
       "      <td>DELICIOUS WAFERS. I FIND THAT EUROPEAN WAFERS ...</td>\n",
       "    </tr>\n",
       "  </tbody>\n",
       "</table>\n",
       "</div>"
      ],
      "text/plain": [
       "       Id   ProductId         UserId      ProfileName  HelpfulnessNumerator  \\\n",
       "0   78445  B000HDL1RQ  AR5J8UI46CURR  Geetha Krishnan                     2   \n",
       "1  138317  B000HDOPYC  AR5J8UI46CURR  Geetha Krishnan                     2   \n",
       "2  138277  B000HDOPYM  AR5J8UI46CURR  Geetha Krishnan                     2   \n",
       "3   73791  B000HDOPZG  AR5J8UI46CURR  Geetha Krishnan                     2   \n",
       "4  155049  B000PAQ75C  AR5J8UI46CURR  Geetha Krishnan                     2   \n",
       "\n",
       "   HelpfulnessDenominator  Score        Time  \\\n",
       "0                       2      5  1199577600   \n",
       "1                       2      5  1199577600   \n",
       "2                       2      5  1199577600   \n",
       "3                       2      5  1199577600   \n",
       "4                       2      5  1199577600   \n",
       "\n",
       "                             Summary  \\\n",
       "0  LOACKER QUADRATINI VANILLA WAFERS   \n",
       "1  LOACKER QUADRATINI VANILLA WAFERS   \n",
       "2  LOACKER QUADRATINI VANILLA WAFERS   \n",
       "3  LOACKER QUADRATINI VANILLA WAFERS   \n",
       "4  LOACKER QUADRATINI VANILLA WAFERS   \n",
       "\n",
       "                                                Text  \n",
       "0  DELICIOUS WAFERS. I FIND THAT EUROPEAN WAFERS ...  \n",
       "1  DELICIOUS WAFERS. I FIND THAT EUROPEAN WAFERS ...  \n",
       "2  DELICIOUS WAFERS. I FIND THAT EUROPEAN WAFERS ...  \n",
       "3  DELICIOUS WAFERS. I FIND THAT EUROPEAN WAFERS ...  \n",
       "4  DELICIOUS WAFERS. I FIND THAT EUROPEAN WAFERS ...  "
      ]
     },
     "execution_count": 7,
     "metadata": {},
     "output_type": "execute_result"
    }
   ],
   "source": [
    "display= pd.read_sql_query(\"\"\"\n",
    "SELECT *\n",
    "FROM Reviews\n",
    "WHERE Score != 3 AND UserId=\"AR5J8UI46CURR\"\n",
    "ORDER BY ProductID\n",
    "\"\"\", con)\n",
    "display.head()"
   ]
  },
  {
   "cell_type": "markdown",
   "metadata": {
    "colab_type": "text",
    "id": "GmHe67iviWNn"
   },
   "source": [
    "As it can be seen above that same user has multiple reviews with same values for HelpfulnessNumerator, HelpfulnessDenominator, Score, Time, Summary and Text and on doing analysis it was found that <br>\n",
    "<br> \n",
    "ProductId=B000HDOPZG was Loacker Quadratini Vanilla Wafer Cookies, 8.82-Ounce Packages (Pack of 8)<br>\n",
    "<br> \n",
    "ProductId=B000HDL1RQ was Loacker Quadratini Lemon Wafer Cookies, 8.82-Ounce Packages (Pack of 8) and so on<br>\n",
    "\n",
    "It was inferred after analysis that reviews with same parameters other than ProductId belonged to the same product just having different flavour or quantity. Hence in order to reduce redundancy it was decided to eliminate the rows having same parameters.<br>\n",
    "\n",
    "The method used for the same was that we first sort the data according to ProductId and then just keep the first similar product review and delelte the others. for eg. in the above just the review for ProductId=B000HDL1RQ remains. This method ensures that there is only one representative for each product and deduplication without sorting would lead to possibility of different representatives still existing for the same product."
   ]
  },
  {
   "cell_type": "code",
   "execution_count": 8,
   "metadata": {
    "colab": {},
    "colab_type": "code",
    "id": "wgmdXIJviWNn"
   },
   "outputs": [],
   "source": [
    "#Sorting data according to ProductId in ascending order\n",
    "sorted_data=filtered_data.sort_values('ProductId', axis=0, ascending=True, inplace=False, kind='quicksort', na_position='last')"
   ]
  },
  {
   "cell_type": "code",
   "execution_count": 9,
   "metadata": {
    "colab": {},
    "colab_type": "code",
    "id": "ComjQ0rHiWNp",
    "outputId": "1c155404-4bb7-4078-c46b-1a9a33ac0602"
   },
   "outputs": [
    {
     "data": {
      "text/plain": [
       "(364173, 10)"
      ]
     },
     "execution_count": 9,
     "metadata": {},
     "output_type": "execute_result"
    }
   ],
   "source": [
    "#Deduplication of entries\n",
    "final=sorted_data.drop_duplicates(subset={\"UserId\",\"ProfileName\",\"Time\",\"Text\"}, keep='first', inplace=False)\n",
    "final.shape"
   ]
  },
  {
   "cell_type": "code",
   "execution_count": 10,
   "metadata": {
    "colab": {},
    "colab_type": "code",
    "id": "yFrWiU23iWNt",
    "outputId": "b9d26952-d8af-4fbb-eb3d-c6a28abcc029"
   },
   "outputs": [
    {
     "data": {
      "text/plain": [
       "69.25890143662969"
      ]
     },
     "execution_count": 10,
     "metadata": {},
     "output_type": "execute_result"
    }
   ],
   "source": [
    "#Checking to see how much % of data still remains\n",
    "(final['Id'].size*1.0)/(filtered_data['Id'].size*1.0)*100"
   ]
  },
  {
   "cell_type": "markdown",
   "metadata": {
    "colab_type": "text",
    "id": "g4lvCHn6iWNw"
   },
   "source": [
    "<b>Observation:-</b> It was also seen that in two rows given below the value of HelpfulnessNumerator is greater than HelpfulnessDenominator which is not practically possible hence these two rows too are removed from calcualtions"
   ]
  },
  {
   "cell_type": "code",
   "execution_count": 11,
   "metadata": {
    "colab": {},
    "colab_type": "code",
    "id": "6ehzwEdgiWNw",
    "outputId": "60e18da4-784f-49d8-84b7-59823cfa3e85"
   },
   "outputs": [
    {
     "data": {
      "text/html": [
       "<div>\n",
       "<style scoped>\n",
       "    .dataframe tbody tr th:only-of-type {\n",
       "        vertical-align: middle;\n",
       "    }\n",
       "\n",
       "    .dataframe tbody tr th {\n",
       "        vertical-align: top;\n",
       "    }\n",
       "\n",
       "    .dataframe thead th {\n",
       "        text-align: right;\n",
       "    }\n",
       "</style>\n",
       "<table border=\"1\" class=\"dataframe\">\n",
       "  <thead>\n",
       "    <tr style=\"text-align: right;\">\n",
       "      <th></th>\n",
       "      <th>Id</th>\n",
       "      <th>ProductId</th>\n",
       "      <th>UserId</th>\n",
       "      <th>ProfileName</th>\n",
       "      <th>HelpfulnessNumerator</th>\n",
       "      <th>HelpfulnessDenominator</th>\n",
       "      <th>Score</th>\n",
       "      <th>Time</th>\n",
       "      <th>Summary</th>\n",
       "      <th>Text</th>\n",
       "    </tr>\n",
       "  </thead>\n",
       "  <tbody>\n",
       "    <tr>\n",
       "      <td>0</td>\n",
       "      <td>64422</td>\n",
       "      <td>B000MIDROQ</td>\n",
       "      <td>A161DK06JJMCYF</td>\n",
       "      <td>J. E. Stephens \"Jeanne\"</td>\n",
       "      <td>3</td>\n",
       "      <td>1</td>\n",
       "      <td>5</td>\n",
       "      <td>1224892800</td>\n",
       "      <td>Bought This for My Son at College</td>\n",
       "      <td>My son loves spaghetti so I didn't hesitate or...</td>\n",
       "    </tr>\n",
       "    <tr>\n",
       "      <td>1</td>\n",
       "      <td>44737</td>\n",
       "      <td>B001EQ55RW</td>\n",
       "      <td>A2V0I904FH7ABY</td>\n",
       "      <td>Ram</td>\n",
       "      <td>3</td>\n",
       "      <td>2</td>\n",
       "      <td>4</td>\n",
       "      <td>1212883200</td>\n",
       "      <td>Pure cocoa taste with crunchy almonds inside</td>\n",
       "      <td>It was almost a 'love at first bite' - the per...</td>\n",
       "    </tr>\n",
       "  </tbody>\n",
       "</table>\n",
       "</div>"
      ],
      "text/plain": [
       "      Id   ProductId          UserId              ProfileName  \\\n",
       "0  64422  B000MIDROQ  A161DK06JJMCYF  J. E. Stephens \"Jeanne\"   \n",
       "1  44737  B001EQ55RW  A2V0I904FH7ABY                      Ram   \n",
       "\n",
       "   HelpfulnessNumerator  HelpfulnessDenominator  Score        Time  \\\n",
       "0                     3                       1      5  1224892800   \n",
       "1                     3                       2      4  1212883200   \n",
       "\n",
       "                                        Summary  \\\n",
       "0             Bought This for My Son at College   \n",
       "1  Pure cocoa taste with crunchy almonds inside   \n",
       "\n",
       "                                                Text  \n",
       "0  My son loves spaghetti so I didn't hesitate or...  \n",
       "1  It was almost a 'love at first bite' - the per...  "
      ]
     },
     "execution_count": 11,
     "metadata": {},
     "output_type": "execute_result"
    }
   ],
   "source": [
    "display= pd.read_sql_query(\"\"\"\n",
    "SELECT *\n",
    "FROM Reviews\n",
    "WHERE Score != 3 AND Id=44737 OR Id=64422\n",
    "ORDER BY ProductID\n",
    "\"\"\", con)\n",
    "\n",
    "display.head()"
   ]
  },
  {
   "cell_type": "code",
   "execution_count": 12,
   "metadata": {
    "colab": {},
    "colab_type": "code",
    "id": "EBa1d6gViWNz"
   },
   "outputs": [],
   "source": [
    "final=final[final.HelpfulnessNumerator<=final.HelpfulnessDenominator]"
   ]
  },
  {
   "cell_type": "code",
   "execution_count": 13,
   "metadata": {
    "colab": {},
    "colab_type": "code",
    "id": "KNQ01asjiWN1",
    "outputId": "0d2433fb-dd33-41cd-a18d-110d776f60b4"
   },
   "outputs": [
    {
     "name": "stdout",
     "output_type": "stream",
     "text": [
      "(364171, 10)\n"
     ]
    },
    {
     "data": {
      "text/plain": [
       "1    307061\n",
       "0     57110\n",
       "Name: Score, dtype: int64"
      ]
     },
     "execution_count": 13,
     "metadata": {},
     "output_type": "execute_result"
    }
   ],
   "source": [
    "#Before starting the next phase of preprocessing lets see the number of entries left\n",
    "print(final.shape)\n",
    "\n",
    "#How many positive and negative reviews are present in our dataset?\n",
    "final['Score'].value_counts()"
   ]
  },
  {
   "cell_type": "markdown",
   "metadata": {
    "colab_type": "text",
    "id": "92IZ5ea0iWN4"
   },
   "source": [
    "#  [3] Preprocessing"
   ]
  },
  {
   "cell_type": "markdown",
   "metadata": {
    "colab_type": "text",
    "id": "NTwQITJKiWN5"
   },
   "source": [
    "## [3.1].  Preprocessing Review Text\n",
    "\n",
    "Now that we have finished deduplication our data requires some preprocessing before we go on further with analysis and making the prediction model.\n",
    "\n",
    "Hence in the Preprocessing phase we do the following in the order below:-\n",
    "\n",
    "1. Begin by removing the html tags\n",
    "2. Remove any punctuations or limited set of special characters like , or . or # etc.\n",
    "3. Check if the word is made up of english letters and is not alpha-numeric\n",
    "4. Check to see if the length of the word is greater than 2 (as it was researched that there is no adjective in 2-letters)\n",
    "5. Convert the word to lowercase\n",
    "6. Remove Stopwords\n",
    "7. Finally Snowball Stemming the word (it was obsereved to be better than Porter Stemming)<br>\n",
    "\n",
    "After which we collect the words used to describe positive and negative reviews"
   ]
  },
  {
   "cell_type": "code",
   "execution_count": 14,
   "metadata": {
    "colab": {},
    "colab_type": "code",
    "id": "kTCxT5aWiWN5",
    "outputId": "64588cda-64b3-47f0-8d01-941e1cc85cc5"
   },
   "outputs": [
    {
     "name": "stdout",
     "output_type": "stream",
     "text": [
      "this witty little book makes my son laugh at loud. i recite it in the car as we're driving along and he always can sing the refrain. he's learned about whales, India, drooping roses:  i love all the new words this book  introduces and the silliness of it all.  this is a classic book i am  willing to bet my son will STILL be able to recite from memory when he is  in college\n",
      "==================================================\n",
      "I was really looking forward to these pods based on the reviews.  Starbucks is good, but I prefer bolder taste.... imagine my surprise when I ordered 2 boxes - both were expired! One expired back in 2005 for gosh sakes.  I admit that Amazon agreed to credit me for cost plus part of shipping, but geez, 2 years expired!!!  I'm hoping to find local San Diego area shoppe that carries pods so that I can try something different than starbucks.\n",
      "==================================================\n",
      "Great ingredients although, chicken should have been 1st rather than chicken broth, the only thing I do not think belongs in it is Canola oil. Canola or rapeseed is not someting a dog would ever find in nature and if it did find rapeseed in nature and eat it, it would poison them. Today's Food industries have convinced the masses that Canola oil is a safe and even better oil than olive or virgin coconut, facts though say otherwise. Until the late 70's it was poisonous until they figured out a way to fix that. I still like it but it could be better.\n",
      "==================================================\n",
      "Can't do sugar.  Have tried scores of SF Syrups.  NONE of them can touch the excellence of this product.<br /><br />Thick, delicious.  Perfect.  3 ingredients: Water, Maltitol, Natural Maple Flavor.  PERIOD.  No chemicals.  No garbage.<br /><br />Have numerous friends & family members hooked on this stuff.  My husband & son, who do NOT like \"sugar free\" prefer this over major label regular syrup.<br /><br />I use this as my SWEETENER in baking: cheesecakes, white brownies, muffins, pumpkin pies, etc... Unbelievably delicious...<br /><br />Can you tell I like it? :)\n",
      "==================================================\n"
     ]
    }
   ],
   "source": [
    "# printing some random reviews\n",
    "sent_0 = final['Text'].values[0]\n",
    "print(sent_0)\n",
    "print(\"=\"*50)\n",
    "\n",
    "sent_1000 = final['Text'].values[1000]\n",
    "print(sent_1000)\n",
    "print(\"=\"*50)\n",
    "\n",
    "sent_1500 = final['Text'].values[1500]\n",
    "print(sent_1500)\n",
    "print(\"=\"*50)\n",
    "\n",
    "sent_4900 = final['Text'].values[4900]\n",
    "print(sent_4900)\n",
    "print(\"=\"*50)"
   ]
  },
  {
   "cell_type": "code",
   "execution_count": 15,
   "metadata": {
    "colab": {},
    "colab_type": "code",
    "id": "iX3VndCPiWN8",
    "outputId": "7f8cad02-65a6-4530-e7e1-bb6775877737"
   },
   "outputs": [
    {
     "name": "stdout",
     "output_type": "stream",
     "text": [
      "this witty little book makes my son laugh at loud. i recite it in the car as we're driving along and he always can sing the refrain. he's learned about whales, India, drooping roses:  i love all the new words this book  introduces and the silliness of it all.  this is a classic book i am  willing to bet my son will STILL be able to recite from memory when he is  in college\n"
     ]
    }
   ],
   "source": [
    "# remove urls from text python: https://stackoverflow.com/a/40823105/4084039\n",
    "sent_0 = re.sub(r\"http\\S+\", \"\", sent_0)\n",
    "sent_1000 = re.sub(r\"http\\S+\", \"\", sent_1000)\n",
    "sent_150 = re.sub(r\"http\\S+\", \"\", sent_1500)\n",
    "sent_4900 = re.sub(r\"http\\S+\", \"\", sent_4900)\n",
    "\n",
    "print(sent_0)"
   ]
  },
  {
   "cell_type": "code",
   "execution_count": 16,
   "metadata": {
    "colab": {},
    "colab_type": "code",
    "id": "DyO7iqEriWN_",
    "outputId": "2a010a1c-574d-409f-d725-c726a25d3e70"
   },
   "outputs": [
    {
     "name": "stdout",
     "output_type": "stream",
     "text": [
      "this witty little book makes my son laugh at loud. i recite it in the car as we're driving along and he always can sing the refrain. he's learned about whales, India, drooping roses:  i love all the new words this book  introduces and the silliness of it all.  this is a classic book i am  willing to bet my son will STILL be able to recite from memory when he is  in college\n",
      "==================================================\n",
      "I was really looking forward to these pods based on the reviews.  Starbucks is good, but I prefer bolder taste.... imagine my surprise when I ordered 2 boxes - both were expired! One expired back in 2005 for gosh sakes.  I admit that Amazon agreed to credit me for cost plus part of shipping, but geez, 2 years expired!!!  I'm hoping to find local San Diego area shoppe that carries pods so that I can try something different than starbucks.\n",
      "==================================================\n",
      "Great ingredients although, chicken should have been 1st rather than chicken broth, the only thing I do not think belongs in it is Canola oil. Canola or rapeseed is not someting a dog would ever find in nature and if it did find rapeseed in nature and eat it, it would poison them. Today's Food industries have convinced the masses that Canola oil is a safe and even better oil than olive or virgin coconut, facts though say otherwise. Until the late 70's it was poisonous until they figured out a way to fix that. I still like it but it could be better.\n",
      "==================================================\n",
      "Can't do sugar.  Have tried scores of SF Syrups.  NONE of them can touch the excellence of this product.Thick, delicious.  Perfect.  3 ingredients: Water, Maltitol, Natural Maple Flavor.  PERIOD.  No chemicals.  No garbage.Have numerous friends & family members hooked on this stuff.  My husband & son, who do NOT like \"sugar free\" prefer this over major label regular syrup.I use this as my SWEETENER in baking: cheesecakes, white brownies, muffins, pumpkin pies, etc... Unbelievably delicious...Can you tell I like it? :)\n"
     ]
    }
   ],
   "source": [
    "# https://stackoverflow.com/questions/16206380/python-beautifulsoup-how-to-remove-all-tags-from-an-element\n",
    "from bs4 import BeautifulSoup\n",
    "\n",
    "soup = BeautifulSoup(sent_0, 'lxml')\n",
    "text = soup.get_text()\n",
    "print(text)\n",
    "print(\"=\"*50)\n",
    "\n",
    "soup = BeautifulSoup(sent_1000, 'lxml')\n",
    "text = soup.get_text()\n",
    "print(text)\n",
    "print(\"=\"*50)\n",
    "\n",
    "soup = BeautifulSoup(sent_1500, 'lxml')\n",
    "text = soup.get_text()\n",
    "print(text)\n",
    "print(\"=\"*50)\n",
    "\n",
    "soup = BeautifulSoup(sent_4900, 'lxml')\n",
    "text = soup.get_text()\n",
    "print(text)"
   ]
  },
  {
   "cell_type": "code",
   "execution_count": 17,
   "metadata": {
    "colab": {},
    "colab_type": "code",
    "id": "qzIaKh8niWOC"
   },
   "outputs": [],
   "source": [
    "# https://stackoverflow.com/a/47091490/4084039\n",
    "import re\n",
    "\n",
    "def decontracted(phrase):\n",
    "    # specific\n",
    "    phrase = re.sub(r\"won't\", \"will not\", phrase)\n",
    "    phrase = re.sub(r\"can\\'t\", \"can not\", phrase)\n",
    "\n",
    "    # general\n",
    "    phrase = re.sub(r\"n\\'t\", \" not\", phrase)\n",
    "    phrase = re.sub(r\"\\'re\", \" are\", phrase)\n",
    "    phrase = re.sub(r\"\\'s\", \" is\", phrase)\n",
    "    phrase = re.sub(r\"\\'d\", \" would\", phrase)\n",
    "    phrase = re.sub(r\"\\'ll\", \" will\", phrase)\n",
    "    phrase = re.sub(r\"\\'t\", \" not\", phrase)\n",
    "    phrase = re.sub(r\"\\'ve\", \" have\", phrase)\n",
    "    phrase = re.sub(r\"\\'m\", \" am\", phrase)\n",
    "    return phrase"
   ]
  },
  {
   "cell_type": "code",
   "execution_count": 18,
   "metadata": {
    "colab": {},
    "colab_type": "code",
    "id": "Esa29-JwiWOD",
    "outputId": "be726596-752d-489b-d311-f4180ac83ac4"
   },
   "outputs": [
    {
     "name": "stdout",
     "output_type": "stream",
     "text": [
      "Great ingredients although, chicken should have been 1st rather than chicken broth, the only thing I do not think belongs in it is Canola oil. Canola or rapeseed is not someting a dog would ever find in nature and if it did find rapeseed in nature and eat it, it would poison them. Today is Food industries have convinced the masses that Canola oil is a safe and even better oil than olive or virgin coconut, facts though say otherwise. Until the late 70 is it was poisonous until they figured out a way to fix that. I still like it but it could be better.\n",
      "==================================================\n"
     ]
    }
   ],
   "source": [
    "sent_1500 = decontracted(sent_1500)\n",
    "print(sent_1500)\n",
    "print(\"=\"*50)"
   ]
  },
  {
   "cell_type": "code",
   "execution_count": 19,
   "metadata": {
    "colab": {},
    "colab_type": "code",
    "id": "qf0c7-nXiWOG",
    "outputId": "6104976d-bda8-4de1-9d91-808f3661d53b"
   },
   "outputs": [
    {
     "name": "stdout",
     "output_type": "stream",
     "text": [
      "this witty little book makes my son laugh at loud. i recite it in the car as we're driving along and he always can sing the refrain. he's learned about whales, India, drooping roses:  i love all the new words this book  introduces and the silliness of it all.  this is a classic book i am  willing to bet my son will STILL be able to recite from memory when he is  in college\n"
     ]
    }
   ],
   "source": [
    "#remove words with numbers python: https://stackoverflow.com/a/18082370/4084039\n",
    "sent_0 = re.sub(\"\\S*\\d\\S*\", \"\", sent_0).strip()\n",
    "print(sent_0)"
   ]
  },
  {
   "cell_type": "code",
   "execution_count": 20,
   "metadata": {
    "colab": {},
    "colab_type": "code",
    "id": "1Z5VK6wxiWOI",
    "outputId": "d3405347-aa6a-4df5-c3d9-2c11441c2385"
   },
   "outputs": [
    {
     "name": "stdout",
     "output_type": "stream",
     "text": [
      "Great ingredients although chicken should have been 1st rather than chicken broth the only thing I do not think belongs in it is Canola oil Canola or rapeseed is not someting a dog would ever find in nature and if it did find rapeseed in nature and eat it it would poison them Today is Food industries have convinced the masses that Canola oil is a safe and even better oil than olive or virgin coconut facts though say otherwise Until the late 70 is it was poisonous until they figured out a way to fix that I still like it but it could be better \n"
     ]
    }
   ],
   "source": [
    "#remove spacial character: https://stackoverflow.com/a/5843547/4084039\n",
    "sent_1500 = re.sub('[^A-Za-z0-9]+', ' ', sent_1500)\n",
    "print(sent_1500)"
   ]
  },
  {
   "cell_type": "code",
   "execution_count": 21,
   "metadata": {
    "colab": {},
    "colab_type": "code",
    "id": "MfzZtIP1iWOL"
   },
   "outputs": [],
   "source": [
    "# https://gist.github.com/sebleier/554280\n",
    "# we are removing the words from the stop words list: 'no', 'nor', 'not'\n",
    "# <br /><br /> ==> after the above steps, we are getting \"br br\"\n",
    "# we are including them into stop words list\n",
    "# instead of <br /> if we have <br/> these tags would have revmoved in the 1st step\n",
    "\n",
    "stopwords= set(['br', 'the', 'i', 'me', 'my', 'myself', 'we', 'our', 'ours', 'ourselves', 'you', \"you're\", \"you've\",\\\n",
    "            \"you'll\", \"you'd\", 'your', 'yours', 'yourself', 'yourselves', 'he', 'him', 'his', 'himself', \\\n",
    "            'she', \"she's\", 'her', 'hers', 'herself', 'it', \"it's\", 'its', 'itself', 'they', 'them', 'their',\\\n",
    "            'theirs', 'themselves', 'what', 'which', 'who', 'whom', 'this', 'that', \"that'll\", 'these', 'those', \\\n",
    "            'am', 'is', 'are', 'was', 'were', 'be', 'been', 'being', 'have', 'has', 'had', 'having', 'do', 'does', \\\n",
    "            'did', 'doing', 'a', 'an', 'the', 'and', 'but', 'if', 'or', 'because', 'as', 'until', 'while', 'of', \\\n",
    "            'at', 'by', 'for', 'with', 'about', 'against', 'between', 'into', 'through', 'during', 'before', 'after',\\\n",
    "            'above', 'below', 'to', 'from', 'up', 'down', 'in', 'out', 'on', 'off', 'over', 'under', 'again', 'further',\\\n",
    "            'then', 'once', 'here', 'there', 'when', 'where', 'why', 'how', 'all', 'any', 'both', 'each', 'few', 'more',\\\n",
    "            'most', 'other', 'some', 'such', 'only', 'own', 'same', 'so', 'than', 'too', 'very', \\\n",
    "            's', 't', 'can', 'will', 'just', 'don', \"don't\", 'should', \"should've\", 'now', 'd', 'll', 'm', 'o', 're', \\\n",
    "            've', 'y', 'ain', 'aren', \"aren't\", 'couldn', \"couldn't\", 'didn', \"didn't\", 'doesn', \"doesn't\", 'hadn',\\\n",
    "            \"hadn't\", 'hasn', \"hasn't\", 'haven', \"haven't\", 'isn', \"isn't\", 'ma', 'mightn', \"mightn't\", 'mustn',\\\n",
    "            \"mustn't\", 'needn', \"needn't\", 'shan', \"shan't\", 'shouldn', \"shouldn't\", 'wasn', \"wasn't\", 'weren', \"weren't\", \\\n",
    "            'won', \"won't\", 'wouldn', \"wouldn't\"])"
   ]
  },
  {
   "cell_type": "code",
   "execution_count": 22,
   "metadata": {
    "colab": {},
    "colab_type": "code",
    "id": "g1C43tjNiWOM",
    "outputId": "a997afc9-894c-4a56-d538-dadea8a21e6d"
   },
   "outputs": [
    {
     "name": "stderr",
     "output_type": "stream",
     "text": [
      "100%|████████████████████████████████████████████████████████████████████████| 364171/364171 [05:01<00:00, 1205.96it/s]\n"
     ]
    }
   ],
   "source": [
    "# Combining all the above stundents \n",
    "from tqdm import tqdm\n",
    "preprocessed_reviews = []\n",
    "# tqdm is for printing the status bar\n",
    "for sentance in tqdm(final['Text'].values):\n",
    "    sentance = re.sub(r\"http\\S+\", \"\", sentance)\n",
    "    sentance = BeautifulSoup(sentance, 'lxml').get_text()\n",
    "    sentance = decontracted(sentance)\n",
    "    sentance = re.sub(\"\\S*\\d\\S*\", \"\", sentance).strip()\n",
    "    sentance = re.sub('[^A-Za-z]+', ' ', sentance)\n",
    "    # https://gist.github.com/sebleier/554280\n",
    "    sentance = ' '.join(e.lower() for e in sentance.split() if e.lower() not in stopwords)\n",
    "    preprocessed_reviews.append(sentance.strip())"
   ]
  },
  {
   "cell_type": "code",
   "execution_count": 23,
   "metadata": {
    "colab": {},
    "colab_type": "code",
    "id": "MWDrCFxViWOP",
    "outputId": "5618c9c3-a86a-42a4-e9c4-d24d93fd5a7a",
    "scrolled": true
   },
   "outputs": [
    {
     "data": {
      "text/plain": [
       "'great ingredients although chicken rather chicken broth thing not think belongs canola oil canola rapeseed not someting dog would ever find nature find rapeseed nature eat would poison today food industries convinced masses canola oil safe even better oil olive virgin coconut facts though say otherwise late poisonous figured way fix still like could better'"
      ]
     },
     "execution_count": 23,
     "metadata": {},
     "output_type": "execute_result"
    }
   ],
   "source": [
    "preprocessed_reviews[1500]"
   ]
  },
  {
   "cell_type": "markdown",
   "metadata": {
    "colab_type": "text",
    "id": "k_mwmumRiWOr"
   },
   "source": [
    "<ol>\n",
    "    <li><strong>Apply Decision Trees on these feature sets</strong>\n",
    "        <ul>\n",
    "            <li><font color='red'>SET 1:</font>Review text, preprocessed one converted into vectors using (BOW)</li>\n",
    "            <li><font color='red'>SET 2:</font>Review text, preprocessed one converted into vectors using (TFIDF)</li>\n",
    "            <li><font color='red'>SET 3:</font>Review text, preprocessed one converted into vectors using (AVG W2v)</li>\n",
    "            <li><font color='red'>SET 4:</font>Review text, preprocessed one converted into vectors using (TFIDF W2v)</li>\n",
    "        </ul>\n",
    "    </li>\n",
    "    <br>\n",
    "    <li><strong>The hyper paramter tuning (best `depth` in range [1, 5, 10, 50, 100, 500, 100], and the best `min_samples_split` in range [5, 10, 100, 500])</strong>\n",
    "        <ul>\n",
    "    <li>Find the best hyper parameter which will give the maximum <a href='https://www.appliedaicourse.com/course/applied-ai-course-online/lessons/receiver-operating-characteristic-curve-roc-curve-and-auc-1/'>AUC</a> value</li>\n",
    "    <li>Find the best hyper paramter using k-fold cross validation or simple cross validation data</li>\n",
    "    <li>Use gridsearch cv or randomsearch cv or you can also write your own for loops to do this task of hyperparameter tuning</li>          \n",
    "        </ul>\n",
    "    </li>\n",
    "    <br>\n",
    "    <li><strong>Graphviz</strong>\n",
    "        <ul>\n",
    "    <li>Visualize your decision tree with Graphviz. It helps you to understand how a decision is being made, given a new vector.</li>\n",
    "    <li>Since feature names are not obtained from word2vec related models, visualize only BOW & TFIDF decision trees using Graphviz</li>\n",
    "    <li>Make sure to print the words in each node of the decision tree instead of printing its index.</li>\n",
    "    <li>Just for visualization purpose, limit max_depth to 2 or 3 and either embed the generated images of graphviz in your notebook, or directly upload them as .png files.</li>                \n",
    "        </ul>\n",
    "    </li>\n",
    "    <br>\n",
    "    <li><strong>Feature importance</strong>\n",
    "        <ul>\n",
    "    <li>Find the top 20 important features from both feature sets <font color='red'>Set 1</font> and <font color='red'>Set 2</font> using `feature_importances_` method of <a href='https://scikit-learn.org/stable/modules/generated/sklearn.tree.DecisionTreeClassifier.html'>Decision Tree Classifier</a> and print their corresponding feature names</li>\n",
    "        </ul>\n",
    "    </li>\n",
    "    <br>\n",
    "    <li><strong>Feature engineering</strong>\n",
    "        <ul>\n",
    "    <li>To increase the performance of your model, you can also experiment with with feature engineering like :</li>\n",
    "            <ul>\n",
    "            <li>Taking length of reviews as another feature.</li>\n",
    "            <li>Considering some features from review summary as well.</li>\n",
    "        </ul>\n",
    "        </ul>\n",
    "    </li>\n",
    "    <br>\n",
    "    <li><strong>Representation of results</strong>\n",
    "        <ul>\n",
    "    <li>You need to plot the performance of model both on train data and cross validation data for each hyper parameter, like shown in the figure.\n",
    "    <img src='train_cv_auc.JPG' width=300px></li>\n",
    "    <li>Once after you found the best hyper parameter, you need to train your model with it, and find the AUC on test data and plot the ROC curve on both train and test.\n",
    "    <img src='train_test_auc.JPG' width=300px></li>\n",
    "    <li>Along with plotting ROC curve, you need to print the <a href='https://www.appliedaicourse.com/course/applied-ai-course-online/lessons/confusion-matrix-tpr-fpr-fnr-tnr-1/'>confusion matrix</a> with predicted and original labels of test data points. Please visualize your confusion matrices using <a href='https://seaborn.pydata.org/generated/seaborn.heatmap.html'>seaborn heatmaps.\n",
    "    <img src='confusion_matrix.png' width=300px></li>\n",
    "        </ul>\n",
    "    </li>\n",
    "    <br>\n",
    "    <li><strong>Conclusion</strong>\n",
    "        <ul>\n",
    "    <li>You need to summarize the results at the end of the notebook, summarize it in the table format. To print out a table please refer to this prettytable library<a href='http://zetcode.com/python/prettytable/'>  link</a> \n",
    "        <img src='summary.JPG' width=400px>\n",
    "    </li>\n",
    "        </ul>\n",
    "</ol>"
   ]
  },
  {
   "cell_type": "markdown",
   "metadata": {
    "colab_type": "text",
    "id": "uqhvv_IiiWOs"
   },
   "source": [
    "<h4><font color='red'>Note: Data Leakage</font></h4>\n",
    "\n",
    "1. There will be an issue of data-leakage if you vectorize the entire data and then split it into train/cv/test.\n",
    "2. To avoid the issue of data-leakag, make sure to split your data first and then vectorize it. \n",
    "3. While vectorizing your data, apply the method fit_transform() on you train data, and apply the method transform() on cv/test data.\n",
    "4. For more details please go through this <a href='https://soundcloud.com/applied-ai-course/leakage-bow-and-tfidf'>link.</a>"
   ]
  },
  {
   "cell_type": "markdown",
   "metadata": {
    "colab_type": "text",
    "id": "ayLYlocviWOs"
   },
   "source": [
    "# Applying Decision Trees"
   ]
  },
  {
   "cell_type": "markdown",
   "metadata": {
    "colab_type": "text",
    "id": "fvKQwJMWiWOt"
   },
   "source": [
    "## [5.1] Applying Decision Trees on BOW,<font color='red'> SET 1</font>"
   ]
  },
  {
   "cell_type": "code",
   "execution_count": 25,
   "metadata": {
    "colab": {},
    "colab_type": "code",
    "id": "vnSi4W-iiWOt"
   },
   "outputs": [],
   "source": [
    "%matplotlib inline\n",
    "import warnings\n",
    "warnings.filterwarnings(\"ignore\")\n",
    "import pandas as pd \n",
    "import numpy as np\n",
    "import matplotlib.pyplot as plt\n",
    "from sklearn.metrics import roc_auc_score\n",
    "from sklearn.model_selection import train_test_split\n",
    "from sklearn.linear_model import LogisticRegression\n",
    "from sklearn.feature_extraction.text import CountVectorizer\n",
    "from sklearn.metrics import confusion_matrix\n",
    "from sklearn.feature_extraction.text import TfidfVectorizer \n",
    "from sklearn import model_selection\n",
    "from sklearn import tree\n",
    "from sklearn.model_selection import GridSearchCV\n",
    "from sklearn.metrics import accuracy_score\n",
    "from sklearn.metrics import precision_score\n",
    "from sklearn.metrics import f1_score\n",
    "from sklearn.metrics import recall_score"
   ]
  },
  {
   "cell_type": "code",
   "execution_count": 26,
   "metadata": {},
   "outputs": [
    {
     "name": "stdout",
     "output_type": "stream",
     "text": [
      "(364171, 11)\n"
     ]
    },
    {
     "data": {
      "text/html": [
       "<div>\n",
       "<style scoped>\n",
       "    .dataframe tbody tr th:only-of-type {\n",
       "        vertical-align: middle;\n",
       "    }\n",
       "\n",
       "    .dataframe tbody tr th {\n",
       "        vertical-align: top;\n",
       "    }\n",
       "\n",
       "    .dataframe thead th {\n",
       "        text-align: right;\n",
       "    }\n",
       "</style>\n",
       "<table border=\"1\" class=\"dataframe\">\n",
       "  <thead>\n",
       "    <tr style=\"text-align: right;\">\n",
       "      <th></th>\n",
       "      <th>Id</th>\n",
       "      <th>ProductId</th>\n",
       "      <th>UserId</th>\n",
       "      <th>ProfileName</th>\n",
       "      <th>HelpfulnessNumerator</th>\n",
       "      <th>HelpfulnessDenominator</th>\n",
       "      <th>Score</th>\n",
       "      <th>Time</th>\n",
       "      <th>Summary</th>\n",
       "      <th>Text</th>\n",
       "      <th>cleaned_text</th>\n",
       "    </tr>\n",
       "  </thead>\n",
       "  <tbody>\n",
       "    <tr>\n",
       "      <td>138706</td>\n",
       "      <td>150524</td>\n",
       "      <td>0006641040</td>\n",
       "      <td>ACITT7DI6IDDL</td>\n",
       "      <td>shari zychinski</td>\n",
       "      <td>0</td>\n",
       "      <td>0</td>\n",
       "      <td>1</td>\n",
       "      <td>939340800</td>\n",
       "      <td>EVERY book is educational</td>\n",
       "      <td>this witty little book makes my son laugh at l...</td>\n",
       "      <td>witty little book makes son laugh loud recite ...</td>\n",
       "    </tr>\n",
       "    <tr>\n",
       "      <td>138688</td>\n",
       "      <td>150506</td>\n",
       "      <td>0006641040</td>\n",
       "      <td>A2IW4PEEKO2R0U</td>\n",
       "      <td>Tracy</td>\n",
       "      <td>1</td>\n",
       "      <td>1</td>\n",
       "      <td>1</td>\n",
       "      <td>1194739200</td>\n",
       "      <td>Love the book, miss the hard cover version</td>\n",
       "      <td>I grew up reading these Sendak books, and watc...</td>\n",
       "      <td>grew reading sendak books watching really rosi...</td>\n",
       "    </tr>\n",
       "    <tr>\n",
       "      <td>138689</td>\n",
       "      <td>150507</td>\n",
       "      <td>0006641040</td>\n",
       "      <td>A1S4A3IQ2MU7V4</td>\n",
       "      <td>sally sue \"sally sue\"</td>\n",
       "      <td>1</td>\n",
       "      <td>1</td>\n",
       "      <td>1</td>\n",
       "      <td>1191456000</td>\n",
       "      <td>chicken soup with rice months</td>\n",
       "      <td>This is a fun way for children to learn their ...</td>\n",
       "      <td>fun way children learn months year learn poems...</td>\n",
       "    </tr>\n",
       "    <tr>\n",
       "      <td>138690</td>\n",
       "      <td>150508</td>\n",
       "      <td>0006641040</td>\n",
       "      <td>AZGXZ2UUK6X</td>\n",
       "      <td>Catherine Hallberg \"(Kate)\"</td>\n",
       "      <td>1</td>\n",
       "      <td>1</td>\n",
       "      <td>1</td>\n",
       "      <td>1076025600</td>\n",
       "      <td>a good swingy rhythm for reading aloud</td>\n",
       "      <td>This is a great little book to read aloud- it ...</td>\n",
       "      <td>great little book read aloud nice rhythm well ...</td>\n",
       "    </tr>\n",
       "    <tr>\n",
       "      <td>138691</td>\n",
       "      <td>150509</td>\n",
       "      <td>0006641040</td>\n",
       "      <td>A3CMRKGE0P909G</td>\n",
       "      <td>Teresa</td>\n",
       "      <td>3</td>\n",
       "      <td>4</td>\n",
       "      <td>1</td>\n",
       "      <td>1018396800</td>\n",
       "      <td>A great way to learn the months</td>\n",
       "      <td>This is a book of poetry about the months of t...</td>\n",
       "      <td>book poetry months year goes month cute little...</td>\n",
       "    </tr>\n",
       "  </tbody>\n",
       "</table>\n",
       "</div>"
      ],
      "text/plain": [
       "            Id   ProductId          UserId                  ProfileName  \\\n",
       "138706  150524  0006641040   ACITT7DI6IDDL              shari zychinski   \n",
       "138688  150506  0006641040  A2IW4PEEKO2R0U                        Tracy   \n",
       "138689  150507  0006641040  A1S4A3IQ2MU7V4        sally sue \"sally sue\"   \n",
       "138690  150508  0006641040     AZGXZ2UUK6X  Catherine Hallberg \"(Kate)\"   \n",
       "138691  150509  0006641040  A3CMRKGE0P909G                       Teresa   \n",
       "\n",
       "        HelpfulnessNumerator  HelpfulnessDenominator  Score        Time  \\\n",
       "138706                     0                       0      1   939340800   \n",
       "138688                     1                       1      1  1194739200   \n",
       "138689                     1                       1      1  1191456000   \n",
       "138690                     1                       1      1  1076025600   \n",
       "138691                     3                       4      1  1018396800   \n",
       "\n",
       "                                           Summary  \\\n",
       "138706                   EVERY book is educational   \n",
       "138688  Love the book, miss the hard cover version   \n",
       "138689               chicken soup with rice months   \n",
       "138690      a good swingy rhythm for reading aloud   \n",
       "138691             A great way to learn the months   \n",
       "\n",
       "                                                     Text  \\\n",
       "138706  this witty little book makes my son laugh at l...   \n",
       "138688  I grew up reading these Sendak books, and watc...   \n",
       "138689  This is a fun way for children to learn their ...   \n",
       "138690  This is a great little book to read aloud- it ...   \n",
       "138691  This is a book of poetry about the months of t...   \n",
       "\n",
       "                                             cleaned_text  \n",
       "138706  witty little book makes son laugh loud recite ...  \n",
       "138688  grew reading sendak books watching really rosi...  \n",
       "138689  fun way children learn months year learn poems...  \n",
       "138690  great little book read aloud nice rhythm well ...  \n",
       "138691  book poetry months year goes month cute little...  "
      ]
     },
     "execution_count": 26,
     "metadata": {},
     "output_type": "execute_result"
    }
   ],
   "source": [
    "final[\"cleaned_text\"] = preprocessed_reviews\n",
    "print(final.shape)\n",
    "final.head()\n"
   ]
  },
  {
   "cell_type": "code",
   "execution_count": 27,
   "metadata": {},
   "outputs": [
    {
     "name": "stdout",
     "output_type": "stream",
     "text": [
      "1    307061\n",
      "0     57110\n",
      "Name: Score, dtype: int64\n"
     ]
    }
   ],
   "source": [
    "print(final[\"Score\"].value_counts())"
   ]
  },
  {
   "cell_type": "markdown",
   "metadata": {},
   "source": [
    "The data is imbalanced(i.e. There is huge difference count difference of two labels). So, Data need to be balanced using either UNDERSAMPLING or OVERSAMPLING. "
   ]
  },
  {
   "cell_type": "code",
   "execution_count": 28,
   "metadata": {},
   "outputs": [
    {
     "name": "stdout",
     "output_type": "stream",
     "text": [
      "(20000, 11)\n"
     ]
    },
    {
     "data": {
      "text/html": [
       "<div>\n",
       "<style scoped>\n",
       "    .dataframe tbody tr th:only-of-type {\n",
       "        vertical-align: middle;\n",
       "    }\n",
       "\n",
       "    .dataframe tbody tr th {\n",
       "        vertical-align: top;\n",
       "    }\n",
       "\n",
       "    .dataframe thead th {\n",
       "        text-align: right;\n",
       "    }\n",
       "</style>\n",
       "<table border=\"1\" class=\"dataframe\">\n",
       "  <thead>\n",
       "    <tr style=\"text-align: right;\">\n",
       "      <th></th>\n",
       "      <th>Id</th>\n",
       "      <th>ProductId</th>\n",
       "      <th>UserId</th>\n",
       "      <th>ProfileName</th>\n",
       "      <th>HelpfulnessNumerator</th>\n",
       "      <th>HelpfulnessDenominator</th>\n",
       "      <th>Score</th>\n",
       "      <th>Time</th>\n",
       "      <th>Summary</th>\n",
       "      <th>Text</th>\n",
       "      <th>cleaned_text</th>\n",
       "    </tr>\n",
       "  </thead>\n",
       "  <tbody>\n",
       "    <tr>\n",
       "      <td>385494</td>\n",
       "      <td>416839</td>\n",
       "      <td>B000EH2VTW</td>\n",
       "      <td>A2F1QPIJTDWK55</td>\n",
       "      <td>Tara A. Green</td>\n",
       "      <td>0</td>\n",
       "      <td>0</td>\n",
       "      <td>1</td>\n",
       "      <td>1253750400</td>\n",
       "      <td>Best Rice and easy to cook!</td>\n",
       "      <td>Texmatic rice tastes incredible and is extreme...</td>\n",
       "      <td>texmatic rice tastes incredible extremely easy...</td>\n",
       "    </tr>\n",
       "    <tr>\n",
       "      <td>337550</td>\n",
       "      <td>365227</td>\n",
       "      <td>B001G8H4EA</td>\n",
       "      <td>A3KP25YIUY79SP</td>\n",
       "      <td>William Trask</td>\n",
       "      <td>14</td>\n",
       "      <td>14</td>\n",
       "      <td>1</td>\n",
       "      <td>1263427200</td>\n",
       "      <td>A good multi-purpose product</td>\n",
       "      <td>One issue of drinking home brewed spiced tea i...</td>\n",
       "      <td>one issue drinking home brewed spiced tea many...</td>\n",
       "    </tr>\n",
       "    <tr>\n",
       "      <td>122118</td>\n",
       "      <td>132364</td>\n",
       "      <td>B003JTAQZ8</td>\n",
       "      <td>A23PJHA99FYLYO</td>\n",
       "      <td>soazsun \"soazsun\"</td>\n",
       "      <td>0</td>\n",
       "      <td>0</td>\n",
       "      <td>1</td>\n",
       "      <td>1344038400</td>\n",
       "      <td>Superb Popcorn</td>\n",
       "      <td>Many years ago (too many) growing up as a kid ...</td>\n",
       "      <td>many years ago many growing kid no thing micro...</td>\n",
       "    </tr>\n",
       "    <tr>\n",
       "      <td>39554</td>\n",
       "      <td>42989</td>\n",
       "      <td>B002NHYQAS</td>\n",
       "      <td>ACWVXZ8VKJ19V</td>\n",
       "      <td>Karen S. Garvin</td>\n",
       "      <td>0</td>\n",
       "      <td>0</td>\n",
       "      <td>1</td>\n",
       "      <td>1298937600</td>\n",
       "      <td>Rich but not bitter</td>\n",
       "      <td>Newman's Own dark chocolate is labeled as 54% ...</td>\n",
       "      <td>newman dark chocolate labeled cocoa percentage...</td>\n",
       "    </tr>\n",
       "    <tr>\n",
       "      <td>430819</td>\n",
       "      <td>465913</td>\n",
       "      <td>B005OU6UD2</td>\n",
       "      <td>A16D635YJB575R</td>\n",
       "      <td>awesome shirts</td>\n",
       "      <td>0</td>\n",
       "      <td>0</td>\n",
       "      <td>1</td>\n",
       "      <td>1342656000</td>\n",
       "      <td>7 month old puppy loves them!</td>\n",
       "      <td>I have a 7 month old poodle that's 7.8lbs, she...</td>\n",
       "      <td>month old poodle loves first got trial pack ti...</td>\n",
       "    </tr>\n",
       "  </tbody>\n",
       "</table>\n",
       "</div>"
      ],
      "text/plain": [
       "            Id   ProductId          UserId        ProfileName  \\\n",
       "385494  416839  B000EH2VTW  A2F1QPIJTDWK55      Tara A. Green   \n",
       "337550  365227  B001G8H4EA  A3KP25YIUY79SP      William Trask   \n",
       "122118  132364  B003JTAQZ8  A23PJHA99FYLYO  soazsun \"soazsun\"   \n",
       "39554    42989  B002NHYQAS   ACWVXZ8VKJ19V    Karen S. Garvin   \n",
       "430819  465913  B005OU6UD2  A16D635YJB575R     awesome shirts   \n",
       "\n",
       "        HelpfulnessNumerator  HelpfulnessDenominator  Score        Time  \\\n",
       "385494                     0                       0      1  1253750400   \n",
       "337550                    14                      14      1  1263427200   \n",
       "122118                     0                       0      1  1344038400   \n",
       "39554                      0                       0      1  1298937600   \n",
       "430819                     0                       0      1  1342656000   \n",
       "\n",
       "                              Summary  \\\n",
       "385494    Best Rice and easy to cook!   \n",
       "337550   A good multi-purpose product   \n",
       "122118                 Superb Popcorn   \n",
       "39554             Rich but not bitter   \n",
       "430819  7 month old puppy loves them!   \n",
       "\n",
       "                                                     Text  \\\n",
       "385494  Texmatic rice tastes incredible and is extreme...   \n",
       "337550  One issue of drinking home brewed spiced tea i...   \n",
       "122118  Many years ago (too many) growing up as a kid ...   \n",
       "39554   Newman's Own dark chocolate is labeled as 54% ...   \n",
       "430819  I have a 7 month old poodle that's 7.8lbs, she...   \n",
       "\n",
       "                                             cleaned_text  \n",
       "385494  texmatic rice tastes incredible extremely easy...  \n",
       "337550  one issue drinking home brewed spiced tea many...  \n",
       "122118  many years ago many growing kid no thing micro...  \n",
       "39554   newman dark chocolate labeled cocoa percentage...  \n",
       "430819  month old poodle loves first got trial pack ti...  "
      ]
     },
     "execution_count": 28,
     "metadata": {},
     "output_type": "execute_result"
    }
   ],
   "source": [
    "#Randomly taking 10000 points from each positive and negative reviews due to time and space complexity.\n",
    "data_pos = final[final[\"Score\"] ==1.0].sample(n=10000)\n",
    "data_neg = final[final[\"Score\"] ==0.0].sample(n=10000)\n",
    "data_pos.head()\n",
    "\n",
    "#concatenating the positive and negative reviews data \n",
    "final_cleaned_data = pd.concat([data_pos,data_neg],axis=0)\n",
    "\n",
    "print(final_cleaned_data.shape)\n",
    "final_cleaned_data.head()\n"
   ]
  },
  {
   "cell_type": "code",
   "execution_count": 29,
   "metadata": {},
   "outputs": [
    {
     "data": {
      "text/html": [
       "<div>\n",
       "<style scoped>\n",
       "    .dataframe tbody tr th:only-of-type {\n",
       "        vertical-align: middle;\n",
       "    }\n",
       "\n",
       "    .dataframe tbody tr th {\n",
       "        vertical-align: top;\n",
       "    }\n",
       "\n",
       "    .dataframe thead th {\n",
       "        text-align: right;\n",
       "    }\n",
       "</style>\n",
       "<table border=\"1\" class=\"dataframe\">\n",
       "  <thead>\n",
       "    <tr style=\"text-align: right;\">\n",
       "      <th></th>\n",
       "      <th>Id</th>\n",
       "      <th>ProductId</th>\n",
       "      <th>UserId</th>\n",
       "      <th>ProfileName</th>\n",
       "      <th>HelpfulnessNumerator</th>\n",
       "      <th>HelpfulnessDenominator</th>\n",
       "      <th>Score</th>\n",
       "      <th>Time</th>\n",
       "      <th>Summary</th>\n",
       "      <th>Text</th>\n",
       "      <th>cleaned_text</th>\n",
       "    </tr>\n",
       "  </thead>\n",
       "  <tbody>\n",
       "    <tr>\n",
       "      <td>346037</td>\n",
       "      <td>374339</td>\n",
       "      <td>B00004CI84</td>\n",
       "      <td>AZRJH4JFB59VC</td>\n",
       "      <td>Lynwood E. Hines</td>\n",
       "      <td>21</td>\n",
       "      <td>23</td>\n",
       "      <td>0</td>\n",
       "      <td>2001-08-08</td>\n",
       "      <td>Great movie, terrible DVD</td>\n",
       "      <td>I am continually amazed at the shoddy treatmen...</td>\n",
       "      <td>continually amazed shoddy treatment movies get...</td>\n",
       "    </tr>\n",
       "    <tr>\n",
       "      <td>333930</td>\n",
       "      <td>361317</td>\n",
       "      <td>B00005IX96</td>\n",
       "      <td>A3ODTU118FKC5J</td>\n",
       "      <td>Rosemarie E Smith</td>\n",
       "      <td>5</td>\n",
       "      <td>7</td>\n",
       "      <td>1</td>\n",
       "      <td>2002-01-06</td>\n",
       "      <td>A little piece of heaven.</td>\n",
       "      <td>For years I have been trying to simulate a tru...</td>\n",
       "      <td>years trying simulate truly italian espresso c...</td>\n",
       "    </tr>\n",
       "    <tr>\n",
       "      <td>346040</td>\n",
       "      <td>374342</td>\n",
       "      <td>B00004CI84</td>\n",
       "      <td>A10L8O1ZMUIMR2</td>\n",
       "      <td>G. Kleinschmidt</td>\n",
       "      <td>61</td>\n",
       "      <td>79</td>\n",
       "      <td>0</td>\n",
       "      <td>2002-12-27</td>\n",
       "      <td>Great movie turned bad</td>\n",
       "      <td>Just to let you know, this movie is one of my ...</td>\n",
       "      <td>let know movie one personal favorite ghost mov...</td>\n",
       "    </tr>\n",
       "    <tr>\n",
       "      <td>121056</td>\n",
       "      <td>131233</td>\n",
       "      <td>B00004RAMX</td>\n",
       "      <td>A1PYZPS1QYR036</td>\n",
       "      <td>Kazantzakis \"hinterlands\"</td>\n",
       "      <td>5</td>\n",
       "      <td>8</td>\n",
       "      <td>0</td>\n",
       "      <td>2003-10-29</td>\n",
       "      <td>Woodstream Gopher Trap 0610</td>\n",
       "      <td>This is a poor excuse for a gopher trap. I hav...</td>\n",
       "      <td>poor excuse gopher trap lots gophers used trap...</td>\n",
       "    </tr>\n",
       "    <tr>\n",
       "      <td>193572</td>\n",
       "      <td>209872</td>\n",
       "      <td>B0000D9N8O</td>\n",
       "      <td>AQFIH82DRPMW</td>\n",
       "      <td>Patrick O'Brien</td>\n",
       "      <td>64</td>\n",
       "      <td>64</td>\n",
       "      <td>1</td>\n",
       "      <td>2003-11-16</td>\n",
       "      <td>Wonderful Cheeses</td>\n",
       "      <td>Everyone in my family loves cheese and we espe...</td>\n",
       "      <td>everyone family loves cheese especially love f...</td>\n",
       "    </tr>\n",
       "  </tbody>\n",
       "</table>\n",
       "</div>"
      ],
      "text/plain": [
       "            Id   ProductId          UserId                ProfileName  \\\n",
       "346037  374339  B00004CI84   AZRJH4JFB59VC           Lynwood E. Hines   \n",
       "333930  361317  B00005IX96  A3ODTU118FKC5J          Rosemarie E Smith   \n",
       "346040  374342  B00004CI84  A10L8O1ZMUIMR2            G. Kleinschmidt   \n",
       "121056  131233  B00004RAMX  A1PYZPS1QYR036  Kazantzakis \"hinterlands\"   \n",
       "193572  209872  B0000D9N8O    AQFIH82DRPMW            Patrick O'Brien   \n",
       "\n",
       "        HelpfulnessNumerator  HelpfulnessDenominator  Score       Time  \\\n",
       "346037                    21                      23      0 2001-08-08   \n",
       "333930                     5                       7      1 2002-01-06   \n",
       "346040                    61                      79      0 2002-12-27   \n",
       "121056                     5                       8      0 2003-10-29   \n",
       "193572                    64                      64      1 2003-11-16   \n",
       "\n",
       "                            Summary  \\\n",
       "346037    Great movie, terrible DVD   \n",
       "333930    A little piece of heaven.   \n",
       "346040       Great movie turned bad   \n",
       "121056  Woodstream Gopher Trap 0610   \n",
       "193572            Wonderful Cheeses   \n",
       "\n",
       "                                                     Text  \\\n",
       "346037  I am continually amazed at the shoddy treatmen...   \n",
       "333930  For years I have been trying to simulate a tru...   \n",
       "346040  Just to let you know, this movie is one of my ...   \n",
       "121056  This is a poor excuse for a gopher trap. I hav...   \n",
       "193572  Everyone in my family loves cheese and we espe...   \n",
       "\n",
       "                                             cleaned_text  \n",
       "346037  continually amazed shoddy treatment movies get...  \n",
       "333930  years trying simulate truly italian espresso c...  \n",
       "346040  let know movie one personal favorite ghost mov...  \n",
       "121056  poor excuse gopher trap lots gophers used trap...  \n",
       "193572  everyone family loves cheese especially love f...  "
      ]
     },
     "execution_count": 29,
     "metadata": {},
     "output_type": "execute_result"
    }
   ],
   "source": [
    "#time based splitting of the data\n",
    "#converting time to date and time\n",
    "final_cleaned_data[\"Time\"] = pd.to_datetime(final_cleaned_data[\"Time\"],unit=\"s\")\n",
    "final_cleaned_data = final_cleaned_data.sort_values(by = \"Time\")\n",
    "final_cleaned_data.head()"
   ]
  },
  {
   "cell_type": "code",
   "execution_count": 30,
   "metadata": {},
   "outputs": [],
   "source": [
    "X = np.array(final_cleaned_data.loc[:,[\"cleaned_text\"]])\n",
    "Y = np.array(final_cleaned_data.loc[:,[\"Score\"]])\n",
    "\n",
    "#splitting the data into train and test.\n",
    "X_train,x_test,Y_train,y_test = model_selection.train_test_split(X,Y,test_size = 0.3,random_state= 42)\n",
    "\n",
    "x_train , x_cv,y_train,y_cv = model_selection.train_test_split(X_train,Y_train,test_size =0.3,random_state = 42)\n",
    "\n"
   ]
  },
  {
   "cell_type": "code",
   "execution_count": 31,
   "metadata": {},
   "outputs": [],
   "source": [
    "#converting all into dataframes \n",
    "X_train = pd.DataFrame(X_train,columns = [\"text\"])\n",
    "x_train = pd.DataFrame(x_train,columns = [\"text\"])\n",
    "x_cv = pd.DataFrame(x_cv,columns =[\"text\"])\n",
    "x_test = pd.DataFrame(x_test,columns =[\"text\"])\n",
    "\n",
    "\n",
    "# Initialising the BOW vector representation\n",
    "count_vec = CountVectorizer()\n",
    "count_vec.fit(x_train[\"text\"])\n",
    "X_train_bow = count_vec.transform(X_train[\"text\"])\n",
    "x_train_bow = count_vec.transform(x_train[\"text\"])\n",
    "x_cv_bow = count_vec.transform(x_cv[\"text\"])\n",
    "x_test_bow = count_vec.transform(x_test[\"text\"])\n"
   ]
  },
  {
   "cell_type": "code",
   "execution_count": 32,
   "metadata": {},
   "outputs": [
    {
     "name": "stdout",
     "output_type": "stream",
     "text": [
      "20337\n",
      "[[0 0 0 ... 0 0 0]]\n"
     ]
    }
   ],
   "source": [
    "print(len(count_vec.get_feature_names()))\n",
    "print(X_train_bow[1].toarray())"
   ]
  },
  {
   "cell_type": "markdown",
   "metadata": {},
   "source": [
    "### Hyperparameter Tuning :- <FONT COLOR=\"RED\">GRID SEARCH CV"
   ]
  },
  {
   "cell_type": "code",
   "execution_count": 33,
   "metadata": {},
   "outputs": [
    {
     "name": "stdout",
     "output_type": "stream",
     "text": [
      "The best sample is  500\n",
      "The best tree depth is  50\n"
     ]
    }
   ],
   "source": [
    "#performing cross validation using gridsearchcv\n",
    "from sklearn.metrics import roc_auc_score\n",
    "roc_auc_train = []\n",
    "roc_auc_cv = []\n",
    "depth = [1, 5, 10, 50, 100, 500, 100]\n",
    "samples_split = [5, 10, 100, 500]\n",
    "parameters=dict(max_depth=depth,min_samples_split=samples_split)\n",
    "clf=GridSearchCV(tree.DecisionTreeClassifier(),parameters, scoring='roc_auc', refit=True, cv=5,return_train_score = True)\n",
    "\n",
    "#fitting models\n",
    "clf.fit(x_train_bow,y_train)\n",
    "\n",
    "\n",
    "probcv=clf.predict_proba(x_cv_bow)[:,1]\n",
    "roc_auc_cv.append(roc_auc_score(y_cv.ravel(),probcv))\n",
    "probtr=clf.predict_proba(x_train_bow)[:,1]    \n",
    "roc_auc_train.append(roc_auc_score(y_train.ravel(),probtr))\n",
    "split_sam=clf.best_params_['min_samples_split']\n",
    "tree_depth=clf.best_params_['max_depth']\n",
    "print(\"The best sample is \",split_sam)\n",
    "print(\"The best tree depth is \",tree_depth)\n",
    "\n"
   ]
  },
  {
   "cell_type": "code",
   "execution_count": 34,
   "metadata": {},
   "outputs": [
    {
     "name": "stdout",
     "output_type": "stream",
     "text": [
      "Test score is 0.5937635767652031 for paramaters:{'max_depth': 1, 'min_samples_split': 5}\n",
      "Test score is 0.5937635767652031 for paramaters:{'max_depth': 1, 'min_samples_split': 10}\n",
      "Test score is 0.5937635767652031 for paramaters:{'max_depth': 1, 'min_samples_split': 100}\n",
      "Test score is 0.5937635767652031 for paramaters:{'max_depth': 1, 'min_samples_split': 500}\n",
      "Test score is 0.7252384423748972 for paramaters:{'max_depth': 5, 'min_samples_split': 5}\n",
      "Test score is 0.7256271840364129 for paramaters:{'max_depth': 5, 'min_samples_split': 10}\n",
      "Test score is 0.7273161796249114 for paramaters:{'max_depth': 5, 'min_samples_split': 100}\n",
      "Test score is 0.7239894465119161 for paramaters:{'max_depth': 5, 'min_samples_split': 500}\n",
      "Test score is 0.7563352803275465 for paramaters:{'max_depth': 10, 'min_samples_split': 5}\n",
      "Test score is 0.7588367199540321 for paramaters:{'max_depth': 10, 'min_samples_split': 10}\n",
      "Test score is 0.7699300490465424 for paramaters:{'max_depth': 10, 'min_samples_split': 100}\n",
      "Test score is 0.7698255539541413 for paramaters:{'max_depth': 10, 'min_samples_split': 500}\n",
      "Test score is 0.7046327563643342 for paramaters:{'max_depth': 50, 'min_samples_split': 5}\n",
      "Test score is 0.725965179824788 for paramaters:{'max_depth': 50, 'min_samples_split': 10}\n",
      "Test score is 0.7687640159052768 for paramaters:{'max_depth': 50, 'min_samples_split': 100}\n",
      "Test score is 0.7898112503413764 for paramaters:{'max_depth': 50, 'min_samples_split': 500}\n",
      "Test score is 0.7151774403440636 for paramaters:{'max_depth': 100, 'min_samples_split': 5}\n",
      "Test score is 0.7304554469067007 for paramaters:{'max_depth': 100, 'min_samples_split': 10}\n",
      "Test score is 0.7665949899445557 for paramaters:{'max_depth': 100, 'min_samples_split': 100}\n",
      "Test score is 0.7845446919422306 for paramaters:{'max_depth': 100, 'min_samples_split': 500}\n",
      "Test score is 0.7226152261256105 for paramaters:{'max_depth': 500, 'min_samples_split': 5}\n",
      "Test score is 0.7331257124949806 for paramaters:{'max_depth': 500, 'min_samples_split': 10}\n",
      "Test score is 0.7669956172942818 for paramaters:{'max_depth': 500, 'min_samples_split': 100}\n",
      "Test score is 0.7829618432089029 for paramaters:{'max_depth': 500, 'min_samples_split': 500}\n",
      "Test score is 0.7120785931194014 for paramaters:{'max_depth': 100, 'min_samples_split': 5}\n",
      "Test score is 0.7312560403230431 for paramaters:{'max_depth': 100, 'min_samples_split': 10}\n",
      "Test score is 0.7640085797313731 for paramaters:{'max_depth': 100, 'min_samples_split': 100}\n",
      "Test score is 0.7856225990090487 for paramaters:{'max_depth': 100, 'min_samples_split': 500}\n"
     ]
    }
   ],
   "source": [
    "mean_test_score = clf.cv_results_['mean_test_score']\n",
    "parameters = clf.cv_results_[\"params\"]\n",
    "for i in range(len(parameters)):\n",
    "    print(\"Test score is {0} for paramaters:{1}\".format(mean_test_score[i],parameters[i]))\n",
    "    "
   ]
  },
  {
   "cell_type": "code",
   "execution_count": 35,
   "metadata": {},
   "outputs": [
    {
     "data": {
      "text/plain": [
       "DecisionTreeClassifier(class_weight=None, criterion='gini', max_depth=50,\n",
       "                       max_features=None, max_leaf_nodes=None,\n",
       "                       min_impurity_decrease=0.0, min_impurity_split=None,\n",
       "                       min_samples_leaf=1, min_samples_split=500,\n",
       "                       min_weight_fraction_leaf=0.0, presort=False,\n",
       "                       random_state=None, splitter='best')"
      ]
     },
     "execution_count": 35,
     "metadata": {},
     "output_type": "execute_result"
    }
   ],
   "source": [
    "#training the model\n",
    "bow_model = tree.DecisionTreeClassifier(max_depth = 50,min_samples_split = 500)\n",
    "bow_model.fit(x_train_bow,y_train)"
   ]
  },
  {
   "cell_type": "markdown",
   "metadata": {},
   "source": [
    "#### <font color=\"red\"> PERFORMANCE METRICS"
   ]
  },
  {
   "cell_type": "code",
   "execution_count": 36,
   "metadata": {},
   "outputs": [
    {
     "name": "stdout",
     "output_type": "stream",
     "text": [
      "\n",
      "Train accuracy=78.275510%\n",
      "\n",
      "Test accuracy=7.265000e+01% \n",
      "\n",
      "Train ROC value=0.867981\n",
      "\n",
      "Test ROC value=0.791483\n",
      "\n",
      "precision=71.446541%\n",
      "\n",
      "recall=75.607321%\n",
      "\n",
      "F1-Score=73.468068%\n"
     ]
    }
   ],
   "source": [
    "pred_bow = bow_model.predict(x_test_bow)\n",
    "#train test accuracy\n",
    "train_acc_bow = bow_model.score(x_train_bow,y_train.ravel())\n",
    "test_acc_bow = bow_model.score(x_test_bow,y_test)\n",
    "\n",
    "#train test ROC value\n",
    "y_scores_bow_train = bow_model.predict_proba(x_train_bow)\n",
    "fpr,tpr,thresholds = roc_curve(y_train,y_scores_bow_train[:,1])     # only positive y_scores to be comsidered\n",
    "roc_auc_train_bow = auc(fpr,tpr)\n",
    "\n",
    "y_scores_bow_test = bow_model.predict_proba(x_test_bow)\n",
    "fpr_1,tpr_1,thresholds = roc_curve(y_test,y_scores_bow_test[:,1])     # only positive y_scores to be comsidered\n",
    "roc_auc_test_bow = auc(fpr_1,tpr_1)\n",
    "\n",
    "#Precision , recall and f1_score \n",
    "pre_bow = precision_score(y_test, pred_bow) * 100\n",
    "rec_bow = recall_score(y_test, pred_bow) * 100\n",
    "f1_bow = f1_score(y_test, pred_bow) * 100\n",
    "\n",
    "\n",
    "print(\"\\nTrain accuracy=%f%%\"% (train_acc_bow*100))\n",
    "print(\"\\nTest accuracy=%e%% \"% (test_acc_bow*100))\n",
    "print(\"\\nTrain ROC value=%f\"% (roc_auc_train_bow))\n",
    "print(\"\\nTest ROC value=%f\"% (roc_auc_test_bow))\n",
    "print('\\nprecision=%f%%' % (pre_bow))\n",
    "print('\\nrecall=%f%%' % (rec_bow))\n",
    "print('\\nF1-Score=%f%%' % (f1_bow))\n",
    "\n"
   ]
  },
  {
   "cell_type": "code",
   "execution_count": 38,
   "metadata": {
    "scrolled": true
   },
   "outputs": [
    {
     "data": {
      "image/png": "[encoded data removed]",
      "text/plain": [
       "<Figure size 432x288 with 1 Axes>"
      ]
     },
     "metadata": {},
     "output_type": "display_data"
    }
   ],
   "source": [
    "plt.figure()\n",
    "plt.plot(fpr,tpr,label = \"roc curve for training with area({})\".format(roc_auc_train_bow))\n",
    "plt.plot(fpr_1,tpr_1,label = \"roc curve for test data with area({})\".format(roc_auc_test_bow))\n",
    "plt.legend(loc=\"lower right\")\n",
    "plt.show()"
   ]
  },
  {
   "cell_type": "code",
   "execution_count": 39,
   "metadata": {},
   "outputs": [
    {
     "data": {
      "text/plain": [
       "array([[2087,  908],\n",
       "       [ 733, 2272]], dtype=int64)"
      ]
     },
     "execution_count": 39,
     "metadata": {},
     "output_type": "execute_result"
    }
   ],
   "source": [
    "#Confusion Matrix\n",
    "pred_bow = bow_model.predict(x_test_bow)    \n",
    "from sklearn.metrics import confusion_matrix\n",
    "cm_bow = confusion_matrix(y_test, pred_bow)\n",
    "cm_bow"
   ]
  },
  {
   "cell_type": "code",
   "execution_count": 40,
   "metadata": {},
   "outputs": [
    {
     "data": {
      "image/png": "[encoded data removed]",
      "text/plain": [
       "<Figure size 432x288 with 2 Axes>"
      ]
     },
     "metadata": {},
     "output_type": "display_data"
    }
   ],
   "source": [
    "class_label = [\"negative\", \"positive\"]\n",
    "df_cm = pd.DataFrame(cm_bow, index = class_label, columns = class_label)\n",
    "sns.heatmap(df_cm, annot = True, fmt = \"d\")\n",
    "plt.title(\"Confusion Matrix\")\n",
    "plt.xlabel(\"Predicted Label\")\n",
    "plt.ylabel(\"True Label\")\n",
    "plt.show()"
   ]
  },
  {
   "cell_type": "markdown",
   "metadata": {
    "colab_type": "text",
    "id": "jm4vkPwMiWOu"
   },
   "source": [
    "### [5.1.1] Top 20 important features from<font color='red'> SET 1</font>"
   ]
  },
  {
   "cell_type": "code",
   "execution_count": 42,
   "metadata": {
    "colab": {},
    "colab_type": "code",
    "id": "puCcjOAkiWOv"
   },
   "outputs": [
    {
     "name": "stdout",
     "output_type": "stream",
     "text": [
      "[0. 0. 0. ... 0. 0. 0.]\n"
     ]
    }
   ],
   "source": [
    "feat = count_vec.get_feature_names() \n",
    "coef =  bow_model.feature_importances_\n",
    "print(coef)"
   ]
  },
  {
   "cell_type": "code",
   "execution_count": 43,
   "metadata": {},
   "outputs": [
    {
     "data": {
      "text/html": [
       "<div>\n",
       "<style scoped>\n",
       "    .dataframe tbody tr th:only-of-type {\n",
       "        vertical-align: middle;\n",
       "    }\n",
       "\n",
       "    .dataframe tbody tr th {\n",
       "        vertical-align: top;\n",
       "    }\n",
       "\n",
       "    .dataframe thead th {\n",
       "        text-align: right;\n",
       "    }\n",
       "</style>\n",
       "<table border=\"1\" class=\"dataframe\">\n",
       "  <thead>\n",
       "    <tr style=\"text-align: right;\">\n",
       "      <th></th>\n",
       "      <th>weight</th>\n",
       "      <th>features</th>\n",
       "    </tr>\n",
       "  </thead>\n",
       "  <tbody>\n",
       "    <tr>\n",
       "      <td>7799</td>\n",
       "      <td>0.142671</td>\n",
       "      <td>great</td>\n",
       "    </tr>\n",
       "    <tr>\n",
       "      <td>11961</td>\n",
       "      <td>0.137947</td>\n",
       "      <td>not</td>\n",
       "    </tr>\n",
       "    <tr>\n",
       "      <td>1578</td>\n",
       "      <td>0.054629</td>\n",
       "      <td>best</td>\n",
       "    </tr>\n",
       "    <tr>\n",
       "      <td>4636</td>\n",
       "      <td>0.045216</td>\n",
       "      <td>delicious</td>\n",
       "    </tr>\n",
       "    <tr>\n",
       "      <td>13012</td>\n",
       "      <td>0.041839</td>\n",
       "      <td>perfect</td>\n",
       "    </tr>\n",
       "  </tbody>\n",
       "</table>\n",
       "</div>"
      ],
      "text/plain": [
       "         weight   features\n",
       "7799   0.142671      great\n",
       "11961  0.137947        not\n",
       "1578   0.054629       best\n",
       "4636   0.045216  delicious\n",
       "13012  0.041839    perfect"
      ]
     },
     "execution_count": 43,
     "metadata": {},
     "output_type": "execute_result"
    }
   ],
   "source": [
    "#creating dataframe for features and weights.\n",
    "frame = pd.DataFrame({'weight':coef,'features':feat})\n",
    "frame.head()\n",
    "# to get top 20 positive and negative features \n",
    "frame= frame.sort_values(\"weight\", axis = 0 ,ascending = False, kind = 'quicksort',na_position = 'last')\n",
    "frame.head()"
   ]
  },
  {
   "cell_type": "code",
   "execution_count": 44,
   "metadata": {
    "scrolled": true
   },
   "outputs": [
    {
     "name": "stdout",
     "output_type": "stream",
     "text": [
      "   weight      features\n",
      " 0.142671         great\n",
      " 0.137947           not\n",
      " 0.054629          best\n",
      " 0.045216     delicious\n",
      " 0.041839       perfect\n",
      " 0.037723          good\n",
      " 0.027973  disappointed\n",
      " 0.025334      favorite\n",
      " 0.021838          love\n",
      " 0.020541         loves\n",
      " 0.018557     excellent\n",
      " 0.018212        highly\n",
      " 0.017312          easy\n",
      " 0.016927         happy\n",
      " 0.014482           bad\n",
      " 0.012937         tasty\n",
      " 0.008912          nice\n",
      " 0.008671            no\n",
      " 0.008619       amazing\n",
      " 0.008506     wonderful\n"
     ]
    }
   ],
   "source": [
    "# to get top 20 features \n",
    "print(frame.head(20).to_string(index=False))\n",
    "#weight_vector.iloc[0:10,0:2]"
   ]
  },
  {
   "cell_type": "markdown",
   "metadata": {
    "colab_type": "text",
    "id": "7JyitDTTiWOx"
   },
   "source": [
    "### [5.1.2] Graphviz visualization of Decision Tree on BOW,<font color='red'> SET 1</font>"
   ]
  },
  {
   "cell_type": "code",
   "execution_count": 46,
   "metadata": {
    "colab": {},
    "colab_type": "code",
    "id": "-jxU7zrAiWOy"
   },
   "outputs": [
    {
     "data": {
      "text/plain": [
       "'tree_representation_of_bow_model.pdf'"
      ]
     },
     "execution_count": 46,
     "metadata": {},
     "output_type": "execute_result"
    }
   ],
   "source": [
    "#visualization of features through graphviz\n",
    "import os\n",
    "import graphviz \n",
    "os.environ[\"PATH\"] += os.pathsep + 'C:/users/Ashok/Anaconda3/Library/bin/graphviz/'\n",
    "\n",
    "dot_data = tree.export_graphviz(bow_model, out_file=None) \n",
    "graph = graphviz.Source(dot_data) \n",
    "graph.render(\"tree_representation_of_bow_model\") \n"
   ]
  },
  {
   "cell_type": "markdown",
   "metadata": {},
   "source": [
    "\n",
    "The required folder could be found in the same directory of this ipython notebook."
   ]
  },
  {
   "cell_type": "code",
   "execution_count": 111,
   "metadata": {},
   "outputs": [
    {
     "name": "stdout",
     "output_type": "stream",
     "text": [
      "+--------------+-----------+-----------+----------------+---------------+--------------+-----------+-------------+-----------+----------+\n",
      "|      CV      | max_depth | max_split | Train_error(%) | Test_error(%) | Precision(%) | Recall(%) | F1-Score(%) | Auc_train | Auc_test |\n",
      "+--------------+-----------+-----------+----------------+---------------+--------------+-----------+-------------+-----------+----------+\n",
      "| GridSearchCv |     50    |    500    |     21.72      |     27.35     |    71.45     |   75.61   |    73.47    |    0.87   |   0.79   |\n",
      "+--------------+-----------+-----------+----------------+---------------+--------------+-----------+-------------+-----------+----------+\n"
     ]
    }
   ],
   "source": [
    "from prettytable import PrettyTable\n",
    "x = PrettyTable()\n",
    "\n",
    "max_depth_bow = 50\n",
    "max_split_bow = 500\n",
    "cv = 'GridSearchCv'\n",
    "x.field_names = [\"CV\",\"max_depth\",\"max_split\",\"Train_error(%)\",\"Test_error(%)\",\"Precision(%)\",\"Recall(%)\",\"F1-Score(%)\",\"Auc_train\",\"Auc_test\"]\n",
    "\n",
    "\n",
    "err_train_bow = np.around(100 - train_acc_bow*100 , decimals = 2)\n",
    "err_test_bow =  np.around(100 - test_acc_bow*100 , decimals = 2)\n",
    "pre_bow= np.around(pre_bow, decimals = 2)\n",
    "rec_bow = np.around(rec_bow, decimals = 2)\n",
    "f1_bow = np.around(f1_bow, decimals = 2)\n",
    "AUC_train_bow = np.around(roc_auc_train_bow,decimals=2)\n",
    "AUC_test_bow = np.around(roc_auc_test_bow,decimals=2)\n",
    "\n",
    "x.add_row([cv,max_depth_bow,max_split_bow,err_train_bow,err_test_bow,pre_bow,rec_bow,f1_bow,AUC_train_bow,AUC_test_bow])\n",
    "\n",
    "\n",
    "print(x)"
   ]
  },
  {
   "cell_type": "markdown",
   "metadata": {
    "colab_type": "text",
    "id": "5przjMTbiWOz"
   },
   "source": [
    "## [5.2] Applying Decision Trees on TFIDF,<font color='red'> SET 2</font>"
   ]
  },
  {
   "cell_type": "code",
   "execution_count": 47,
   "metadata": {
    "colab": {},
    "colab_type": "code",
    "id": "Bm3mfI7miWOz"
   },
   "outputs": [
    {
     "name": "stdout",
     "output_type": "stream",
     "text": [
      "(9800, 362982)\n",
      "(9800, 1)\n"
     ]
    }
   ],
   "source": [
    "# Please write all the code with proper documentation\n",
    "final.shape\n",
    "final_cleaned_data.shape\n",
    "#splitting the data into train and test\n",
    "\n",
    "X_tfidf = np.array(final_cleaned_data.loc[:,[\"cleaned_text\"]])\n",
    "Y_tfidf = np.array(final_cleaned_data.loc[:,[\"Score\"]])\n",
    "\n",
    "X_train,x_test,Y_train,y_test = model_selection.train_test_split(X_tfidf,Y_tfidf,test_size = 0.3,random_state= 42)\n",
    "\n",
    "x_train , x_cv,y_train,y_cv = model_selection.train_test_split(X_train,Y_train,test_size =0.3,random_state = 42)\n",
    "\n",
    "#converting all into dataframes \n",
    "X_train = pd.DataFrame(X_train,columns = [\"text\"])\n",
    "x_train = pd.DataFrame(x_train,columns = [\"text\"])\n",
    "x_cv = pd.DataFrame(x_cv,columns =[\"text\"])\n",
    "x_test = pd.DataFrame(x_test,columns =[\"text\"])\n",
    "\n",
    "# Initialising the TFIDF vetorizer\n",
    "tfidf_vec = TfidfVectorizer(ngram_range =(1,2))\n",
    "tfidf_vec.fit(X_train[\"text\"])\n",
    "X_train_tfidf = tfidf_vec.transform(X_train[\"text\"])\n",
    "x_train_tfidf = tfidf_vec.transform(x_train[\"text\"])\n",
    "x_cv_tfidf = tfidf_vec.transform(x_cv[\"text\"])\n",
    "x_test_tfidf = tfidf_vec.transform(x_test[\"text\"])\n",
    "\n",
    "#X_train = count_vec.transform(X_train[\"text\"])\n",
    "print(x_train_tfidf.shape)\n",
    "print(y_train.shape)"
   ]
  },
  {
   "cell_type": "markdown",
   "metadata": {},
   "source": [
    "### Hyperparameter Tuning: <font color = \"red\">GridSearchCV"
   ]
  },
  {
   "cell_type": "code",
   "execution_count": 48,
   "metadata": {},
   "outputs": [
    {
     "name": "stdout",
     "output_type": "stream",
     "text": [
      "The best sample is  500\n",
      "The best tree depth is  50\n"
     ]
    }
   ],
   "source": [
    "#performing cross validation using gridsearchcv\n",
    "from sklearn.metrics import roc_auc_score\n",
    "roc_auc_train = []\n",
    "roc_auc_cv = []\n",
    "depth = [1, 5, 10, 50, 100, 500, 100]\n",
    "samples_split = [5, 10, 100, 500]\n",
    "parameters=dict(max_depth=depth,min_samples_split=samples_split)\n",
    "clf=GridSearchCV(tree.DecisionTreeClassifier(),parameters, scoring='roc_auc', refit=True, cv=5,return_train_score = True)\n",
    "\n",
    "#fitting models\n",
    "clf.fit(x_train_tfidf,y_train)\n",
    "\n",
    "clf.fit(x_train_tfidf,y_train.ravel())\n",
    "probcv=clf.predict_proba(x_cv_tfidf)[:,1]\n",
    "roc_auc_cv.append(roc_auc_score(y_cv.ravel(),probcv))\n",
    "probtr=clf.predict_proba(x_train_tfidf)[:,1]    \n",
    "roc_auc_train.append(roc_auc_score(y_train.ravel(),probtr))\n",
    "split_sam=clf.best_params_['min_samples_split']\n",
    "tree_depth=clf.best_params_['max_depth']\n",
    "print(\"The best sample is \",split_sam)\n",
    "print(\"The best tree depth is \",tree_depth)"
   ]
  },
  {
   "cell_type": "code",
   "execution_count": 49,
   "metadata": {},
   "outputs": [
    {
     "name": "stdout",
     "output_type": "stream",
     "text": [
      "Test score is 0.5897767590870109 for paramaters:{'max_depth': 1, 'min_samples_split': 5}\n",
      "Test score is 0.5897767590870109 for paramaters:{'max_depth': 1, 'min_samples_split': 10}\n",
      "Test score is 0.5897767590870109 for paramaters:{'max_depth': 1, 'min_samples_split': 100}\n",
      "Test score is 0.5897767590870109 for paramaters:{'max_depth': 1, 'min_samples_split': 500}\n",
      "Test score is 0.7199199128337586 for paramaters:{'max_depth': 5, 'min_samples_split': 5}\n",
      "Test score is 0.7197316610774892 for paramaters:{'max_depth': 5, 'min_samples_split': 10}\n",
      "Test score is 0.7206703021039974 for paramaters:{'max_depth': 5, 'min_samples_split': 100}\n",
      "Test score is 0.7212442517057174 for paramaters:{'max_depth': 5, 'min_samples_split': 500}\n",
      "Test score is 0.7615143496421554 for paramaters:{'max_depth': 10, 'min_samples_split': 5}\n",
      "Test score is 0.7629328440829456 for paramaters:{'max_depth': 10, 'min_samples_split': 10}\n",
      "Test score is 0.7682154611359621 for paramaters:{'max_depth': 10, 'min_samples_split': 100}\n",
      "Test score is 0.7766086745592682 for paramaters:{'max_depth': 10, 'min_samples_split': 500}\n",
      "Test score is 0.7332104668149888 for paramaters:{'max_depth': 50, 'min_samples_split': 5}\n",
      "Test score is 0.7432853097610844 for paramaters:{'max_depth': 50, 'min_samples_split': 10}\n",
      "Test score is 0.7756029941905905 for paramaters:{'max_depth': 50, 'min_samples_split': 100}\n",
      "Test score is 0.7904299876573799 for paramaters:{'max_depth': 50, 'min_samples_split': 500}\n",
      "Test score is 0.7246675989268884 for paramaters:{'max_depth': 100, 'min_samples_split': 5}\n",
      "Test score is 0.7383721027974529 for paramaters:{'max_depth': 100, 'min_samples_split': 10}\n",
      "Test score is 0.7680373092938637 for paramaters:{'max_depth': 100, 'min_samples_split': 100}\n",
      "Test score is 0.7792163113881181 for paramaters:{'max_depth': 100, 'min_samples_split': 500}\n",
      "Test score is 0.7302719756823083 for paramaters:{'max_depth': 500, 'min_samples_split': 5}\n",
      "Test score is 0.7453923628814068 for paramaters:{'max_depth': 500, 'min_samples_split': 10}\n",
      "Test score is 0.7645838448985758 for paramaters:{'max_depth': 500, 'min_samples_split': 100}\n",
      "Test score is 0.7801496413874647 for paramaters:{'max_depth': 500, 'min_samples_split': 500}\n",
      "Test score is 0.7243636580541843 for paramaters:{'max_depth': 100, 'min_samples_split': 5}\n",
      "Test score is 0.7353853843457401 for paramaters:{'max_depth': 100, 'min_samples_split': 10}\n",
      "Test score is 0.765424862478978 for paramaters:{'max_depth': 100, 'min_samples_split': 100}\n",
      "Test score is 0.7771435975487935 for paramaters:{'max_depth': 100, 'min_samples_split': 500}\n"
     ]
    }
   ],
   "source": [
    "mean_test_score = clf.cv_results_['mean_test_score']\n",
    "parameters = clf.cv_results_[\"params\"]\n",
    "for i in range(len(parameters)):\n",
    "    print(\"Test score is {0} for paramaters:{1}\".format(mean_test_score[i],parameters[i]))"
   ]
  },
  {
   "cell_type": "code",
   "execution_count": 51,
   "metadata": {},
   "outputs": [
    {
     "data": {
      "text/plain": [
       "DecisionTreeClassifier(class_weight=None, criterion='gini', max_depth=50,\n",
       "                       max_features=None, max_leaf_nodes=None,\n",
       "                       min_impurity_decrease=0.0, min_impurity_split=None,\n",
       "                       min_samples_leaf=1, min_samples_split=500,\n",
       "                       min_weight_fraction_leaf=0.0, presort=False,\n",
       "                       random_state=None, splitter='best')"
      ]
     },
     "execution_count": 51,
     "metadata": {},
     "output_type": "execute_result"
    }
   ],
   "source": [
    "#training the model\n",
    "tfidf_model = tree.DecisionTreeClassifier(max_depth = 50,min_samples_split = 500)\n",
    "tfidf_model.fit(x_train_tfidf,y_train)"
   ]
  },
  {
   "cell_type": "markdown",
   "metadata": {},
   "source": [
    "#### <font color=\"red\"> PERFORMANCE METRICS"
   ]
  },
  {
   "cell_type": "code",
   "execution_count": 52,
   "metadata": {},
   "outputs": [
    {
     "name": "stdout",
     "output_type": "stream",
     "text": [
      "\n",
      "Train accuracy=81.540816%\n",
      "\n",
      "Test accuracy=7.310000e+01% \n",
      "\n",
      "Train ROC value=0.890318\n",
      "\n",
      "Test ROC value=0.786077\n",
      "\n",
      "precision=70.829590%\n",
      "\n",
      "recall=78.702163%\n",
      "\n",
      "F1-Score=74.558638%\n"
     ]
    }
   ],
   "source": [
    "pred_tfidf = tfidf_model.predict(x_test_tfidf)\n",
    "#train test accuracy\n",
    "train_acc_tfidf = tfidf_model.score(x_train_tfidf,y_train.ravel())\n",
    "test_acc_tfidf = tfidf_model.score(x_test_tfidf,y_test)\n",
    "\n",
    "#train test ROC value\n",
    "y_scores_tfidf_train = tfidf_model.predict_proba(x_train_tfidf)\n",
    "fpr,tpr,thresholds = roc_curve(y_train,y_scores_tfidf_train[:,1])     # only positive y_scores to be comsidered\n",
    "roc_auc_train_tfidf = auc(fpr,tpr)\n",
    "\n",
    "y_scores_tfidf_test = tfidf_model.predict_proba(x_test_tfidf)\n",
    "fpr_1,tpr_1,thresholds = roc_curve(y_test,y_scores_tfidf_test[:,1])     # only positive y_scores to be comsidered\n",
    "roc_auc_test_tfidf = auc(fpr_1,tpr_1)\n",
    "\n",
    "#Precision , recall and f1_score \n",
    "pre_tfidf = precision_score(y_test, pred_tfidf) * 100\n",
    "rec_tfidf = recall_score(y_test, pred_tfidf) * 100\n",
    "f1_tfidf = f1_score(y_test, pred_tfidf) * 100\n",
    "\n",
    "\n",
    "print(\"\\nTrain accuracy=%f%%\"% (train_acc_tfidf*100))\n",
    "print(\"\\nTest accuracy=%e%% \"% (test_acc_tfidf*100))\n",
    "print(\"\\nTrain ROC value=%f\"% (roc_auc_train_tfidf))\n",
    "print(\"\\nTest ROC value=%f\"% (roc_auc_test_tfidf))\n",
    "print('\\nprecision=%f%%' % (pre_tfidf))\n",
    "print('\\nrecall=%f%%' % (rec_tfidf))\n",
    "print('\\nF1-Score=%f%%' % (f1_tfidf))\n",
    "\n"
   ]
  },
  {
   "cell_type": "code",
   "execution_count": 53,
   "metadata": {},
   "outputs": [
    {
     "data": {
      "image/png": "[encoded data removed]",
      "text/plain": [
       "<Figure size 432x288 with 1 Axes>"
      ]
     },
     "metadata": {},
     "output_type": "display_data"
    }
   ],
   "source": [
    "plt.figure()\n",
    "plt.plot(fpr,tpr,label = \"roc curve for training with area({})\".format(roc_auc_train_tfidf))\n",
    "plt.plot(fpr_1,tpr_1,label = \"roc curve for test data with area({})\".format(roc_auc_test_tfidf))\n",
    "plt.legend(loc=\"lower right\")\n",
    "plt.show()"
   ]
  },
  {
   "cell_type": "code",
   "execution_count": 54,
   "metadata": {},
   "outputs": [
    {
     "data": {
      "text/plain": [
       "array([[2021,  974],\n",
       "       [ 640, 2365]], dtype=int64)"
      ]
     },
     "execution_count": 54,
     "metadata": {},
     "output_type": "execute_result"
    }
   ],
   "source": [
    "#Confusion Matrix\n",
    "pred_tfidf = tfidf_model.predict(x_test_tfidf)    \n",
    "from sklearn.metrics import confusion_matrix\n",
    "cm_tfidf = confusion_matrix(y_test, pred_tfidf)\n",
    "cm_tfidf"
   ]
  },
  {
   "cell_type": "code",
   "execution_count": 55,
   "metadata": {},
   "outputs": [
    {
     "data": {
      "image/png": "[encoded data removed]",
      "text/plain": [
       "<Figure size 432x288 with 2 Axes>"
      ]
     },
     "metadata": {},
     "output_type": "display_data"
    }
   ],
   "source": [
    "class_label = [\"negative\", \"positive\"]\n",
    "df_cm = pd.DataFrame(cm_tfidf, index = class_label, columns = class_label)\n",
    "sns.heatmap(df_cm, annot = True, fmt = \"d\")\n",
    "plt.title(\"Confusion Matrix\")\n",
    "plt.xlabel(\"Predicted Label\")\n",
    "plt.ylabel(\"True Label\")\n",
    "plt.show()"
   ]
  },
  {
   "cell_type": "markdown",
   "metadata": {
    "colab_type": "text",
    "id": "PIKUCldjiWO0"
   },
   "source": [
    "### [5.2.1] Top 20 important features from<font color='red'> SET 2</font>"
   ]
  },
  {
   "cell_type": "code",
   "execution_count": 56,
   "metadata": {
    "colab": {},
    "colab_type": "code",
    "id": "p2P0iHQciWO1"
   },
   "outputs": [],
   "source": [
    "# Please write all the code with proper documentation\n",
    "feats = tfidf_vec.get_feature_names() "
   ]
  },
  {
   "cell_type": "code",
   "execution_count": 57,
   "metadata": {},
   "outputs": [
    {
     "name": "stdout",
     "output_type": "stream",
     "text": [
      "[0. 0. 0. ... 0. 0. 0.]\n"
     ]
    }
   ],
   "source": [
    "coef =  tfidf_model.feature_importances_\n",
    "print(coef)"
   ]
  },
  {
   "cell_type": "code",
   "execution_count": 59,
   "metadata": {},
   "outputs": [
    {
     "data": {
      "text/html": [
       "<div>\n",
       "<style scoped>\n",
       "    .dataframe tbody tr th:only-of-type {\n",
       "        vertical-align: middle;\n",
       "    }\n",
       "\n",
       "    .dataframe tbody tr th {\n",
       "        vertical-align: top;\n",
       "    }\n",
       "\n",
       "    .dataframe thead th {\n",
       "        text-align: right;\n",
       "    }\n",
       "</style>\n",
       "<table border=\"1\" class=\"dataframe\">\n",
       "  <thead>\n",
       "    <tr style=\"text-align: right;\">\n",
       "      <th></th>\n",
       "      <th>weight</th>\n",
       "      <th>features</th>\n",
       "    </tr>\n",
       "  </thead>\n",
       "  <tbody>\n",
       "    <tr>\n",
       "      <td>139281</td>\n",
       "      <td>0.130919</td>\n",
       "      <td>great</td>\n",
       "    </tr>\n",
       "    <tr>\n",
       "      <td>211207</td>\n",
       "      <td>0.118338</td>\n",
       "      <td>not</td>\n",
       "    </tr>\n",
       "    <tr>\n",
       "      <td>27087</td>\n",
       "      <td>0.052132</td>\n",
       "      <td>best</td>\n",
       "    </tr>\n",
       "    <tr>\n",
       "      <td>81755</td>\n",
       "      <td>0.042049</td>\n",
       "      <td>delicious</td>\n",
       "    </tr>\n",
       "    <tr>\n",
       "      <td>135448</td>\n",
       "      <td>0.040550</td>\n",
       "      <td>good</td>\n",
       "    </tr>\n",
       "  </tbody>\n",
       "</table>\n",
       "</div>"
      ],
      "text/plain": [
       "          weight   features\n",
       "139281  0.130919      great\n",
       "211207  0.118338        not\n",
       "27087   0.052132       best\n",
       "81755   0.042049  delicious\n",
       "135448  0.040550       good"
      ]
     },
     "execution_count": 59,
     "metadata": {},
     "output_type": "execute_result"
    }
   ],
   "source": [
    "frame = pd.DataFrame({'weight':coef,'features':feats})\n",
    "frame.head()\n",
    "# to get top 20 positive and negative features \n",
    "frame= frame.sort_values(\"weight\", axis = 0 ,ascending = False, kind = 'quicksort',na_position = 'last')\n",
    "frame.head()"
   ]
  },
  {
   "cell_type": "code",
   "execution_count": 60,
   "metadata": {},
   "outputs": [
    {
     "name": "stdout",
     "output_type": "stream",
     "text": [
      "   weight      features\n",
      " 0.130919         great\n",
      " 0.118338           not\n",
      " 0.052132          best\n",
      " 0.042049     delicious\n",
      " 0.040550          good\n",
      " 0.038418       perfect\n",
      " 0.031416          love\n",
      " 0.029497          easy\n",
      " 0.023998        highly\n",
      " 0.020399      favorite\n",
      " 0.020210         loves\n",
      " 0.019715     excellent\n",
      " 0.018476          nice\n",
      " 0.016051      not good\n",
      " 0.015712         tasty\n",
      " 0.015431  disappointed\n",
      " 0.013920           bad\n",
      " 0.009976     wonderful\n",
      " 0.009462         waste\n",
      " 0.009081       amazing\n"
     ]
    }
   ],
   "source": [
    "# to get top 20 features \n",
    "print(frame.head(20).to_string(index=False))\n",
    "#weight_vector.iloc[0:10,0:2]"
   ]
  },
  {
   "cell_type": "markdown",
   "metadata": {
    "colab_type": "text",
    "id": "RTZB9ipUiWO3"
   },
   "source": [
    "### [5.2.2] Graphviz visualization of Decision Tree on TFIDF,<font color='red'> SET 2</font>"
   ]
  },
  {
   "cell_type": "code",
   "execution_count": 61,
   "metadata": {
    "colab": {},
    "colab_type": "code",
    "id": "DMbZoPoTiWO4"
   },
   "outputs": [
    {
     "data": {
      "text/plain": [
       "'tree_representation_of_tfidf_model.pdf'"
      ]
     },
     "execution_count": 61,
     "metadata": {},
     "output_type": "execute_result"
    }
   ],
   "source": [
    "# Please write all the code with proper documentation\n",
    "#visualization of features through graphviz\n",
    "import os\n",
    "import graphviz \n",
    "os.environ[\"PATH\"] += os.pathsep + 'C:/users/Ashok/Anaconda3/Library/bin/graphviz/'\n",
    "\n",
    "dot_data = tree.export_graphviz(tfidf_model, out_file=None) \n",
    "graph = graphviz.Source(dot_data) \n",
    "graph.render(\"tree_representation_of_tfidf_model\") \n"
   ]
  },
  {
   "cell_type": "code",
   "execution_count": 112,
   "metadata": {},
   "outputs": [
    {
     "name": "stdout",
     "output_type": "stream",
     "text": [
      "+--------------+-----------+-----------+----------------+---------------+--------------+-----------+-------------+-----------+----------+\n",
      "|      CV      | max_depth | max_split | Train_error(%) | Test_error(%) | Precision(%) | Recall(%) | F1-Score(%) | Auc_train | Auc_test |\n",
      "+--------------+-----------+-----------+----------------+---------------+--------------+-----------+-------------+-----------+----------+\n",
      "| GridSearchCv |     50    |    500    |     18.46      |      26.9     |    70.83     |    78.7   |    74.56    |    0.89   |   0.79   |\n",
      "+--------------+-----------+-----------+----------------+---------------+--------------+-----------+-------------+-----------+----------+\n"
     ]
    }
   ],
   "source": [
    "from prettytable import PrettyTable\n",
    "x = PrettyTable()\n",
    "\n",
    "max_depth_tfidf = 50\n",
    "max_split_tfidf = 500\n",
    "cv = 'GridSearchCv'\n",
    "x.field_names = [\"CV\",\"max_depth\",\"max_split\",\"Train_error(%)\",\"Test_error(%)\",\"Precision(%)\",\"Recall(%)\",\"F1-Score(%)\",\"Auc_train\",\"Auc_test\"]\n",
    "\n",
    "\n",
    "err_train_tfidf = np.around(100 - train_acc_tfidf*100 , decimals = 2)\n",
    "err_test_tfidf =  np.around(100 - test_acc_tfidf*100 , decimals = 2)\n",
    "pre_tfidf= np.around(pre_tfidf, decimals = 2)\n",
    "rec_tfidf = np.around(rec_tfidf, decimals = 2)\n",
    "f1_tfidf = np.around(f1_tfidf, decimals = 2)\n",
    "AUC_train_tfidf = np.around(roc_auc_train_tfidf,decimals=2)\n",
    "AUC_test_tfidf = np.around(roc_auc_test_tfidf,decimals=2)\n",
    "\n",
    "x.add_row([cv,max_depth_tfidf,max_split_tfidf,err_train_tfidf,err_test_tfidf,pre_tfidf,rec_tfidf,f1_tfidf,AUC_train_tfidf,AUC_test_tfidf])\n",
    "\n",
    "\n",
    "print(x)"
   ]
  },
  {
   "cell_type": "markdown",
   "metadata": {
    "colab_type": "text",
    "id": "NVhl_V6MiWO5"
   },
   "source": [
    "## [5.3] Applying Decision Trees on AVG W2V,<font color='red'> SET 3</font>"
   ]
  },
  {
   "cell_type": "code",
   "execution_count": 62,
   "metadata": {
    "colab": {},
    "colab_type": "code",
    "id": "uYDXnzMmiWO5"
   },
   "outputs": [],
   "source": [
    "# Please write all the code with proper documentations\n",
    "#converting all the dataframe into list.\n",
    "\n",
    "X_train_w2v = X_train[\"text\"].tolist() \n",
    "x_train_w2v = x_train[\"text\"].tolist()\n",
    "x_cv_w2v = x_cv[\"text\"].tolist()\n",
    "x_test_w2v = x_test[\"text\"].tolist()"
   ]
  },
  {
   "cell_type": "code",
   "execution_count": 63,
   "metadata": {},
   "outputs": [],
   "source": [
    "#storing  all the datasets into one list\n",
    "data_for_w2v = []\n",
    "data_for_w2v.append(X_train_w2v)\n",
    "data_for_w2v.append(x_train_w2v)\n",
    "data_for_w2v.append(x_cv_w2v)\n",
    "data_for_w2v.append(x_test_w2v)"
   ]
  },
  {
   "cell_type": "code",
   "execution_count": 64,
   "metadata": {},
   "outputs": [],
   "source": [
    "# Train your own Word2Vec model using your own text corpus\n",
    "\n",
    "#appending the text for train test crossval in one list.\n",
    "#note: \n",
    "    # index 0 implies x_1 data\n",
    "    #index 1 implies x_train data\n",
    "    # index 2 implies x_crossval data\n",
    "    #index 3 implies x_test data\n",
    "    \n",
    "\n",
    "count = 0\n",
    "list_of_sentance_for_w2v = []\n",
    "for i in data_for_w2v:\n",
    "    locals()['list_of_sentance_{}'.format(count)] = []\n",
    "    for sentance in i:\n",
    "        locals()['list_of_sentance_{}'.format(count)].append(sentance.split())\n",
    "        \n",
    "    count +=1\n",
    "    \n",
    "list_of_sentance_for_w2v.append(list_of_sentance_0) \n",
    "list_of_sentance_for_w2v.append(list_of_sentance_1) \n",
    "list_of_sentance_for_w2v.append(list_of_sentance_2) \n",
    "list_of_sentance_for_w2v.append(list_of_sentance_3)\n"
   ]
  },
  {
   "cell_type": "code",
   "execution_count": 65,
   "metadata": {},
   "outputs": [
    {
     "name": "stdout",
     "output_type": "stream",
     "text": [
      "Word2Vec(vocab=7548, size=50, alpha=0.025)\n",
      "Word2Vec(vocab=6260, size=50, alpha=0.025)\n",
      "Word2Vec(vocab=3842, size=50, alpha=0.025)\n",
      "Word2Vec(vocab=4802, size=50, alpha=0.025)\n",
      "waste\n"
     ]
    }
   ],
   "source": [
    "#Training w2v model / converting texts into vectors.\n",
    "\n",
    "counts = 0\n",
    "for i in list_of_sentance_for_w2v:\n",
    "    is_your_ram_gt_16g=False\n",
    "    want_to_use_google_w2v = False\n",
    "    want_to_train_w2v = True\n",
    "\n",
    "    if want_to_train_w2v:\n",
    "        # min_count = 5 considers only words that occured atleast 5 times\n",
    "         # min_count = 5 considers only words that occured atleast 5 times\n",
    "        #w2v_model=Word2Vec(list_of_sentance,min_count=5,size=50, workers=4)\n",
    "   \n",
    "        locals()['w2v_model_{}'.format(counts)]=Word2Vec(i,min_count=5,size=50, workers=4)  # models for train and test data\n",
    "        locals()['w2v_words_{}'.format(counts)] = list(locals()['w2v_model_{}'.format(counts)].wv.vocab) #words of train and test data\n",
    "    \n",
    "    \n",
    "    elif want_to_use_google_w2v and is_your_ram_gt_16g:\n",
    "        if os.path.isfile('GoogleNews-vectors-negative300.bin'):\n",
    "            w2v_model=KeyedVectors.load_word2vec_format('GoogleNews-vectors-negative300.bin', binary=True)\n",
    "        \n",
    "        else:\n",
    "            print(\"you don't have gogole's word2vec file, keep want_to_train_w2v = True, to train your own w2v \")\n",
    "    counts+=1            \n",
    "            \n",
    "print(w2v_model_0)    # x_1 data\n",
    "print(w2v_model_1)  #x_train data\n",
    "print(w2v_model_2)    #x_crossval data\n",
    "print(w2v_model_3)  #x_test data\n",
    "print(w2v_words_1[6])\n"
   ]
  },
  {
   "cell_type": "code",
   "execution_count": 66,
   "metadata": {},
   "outputs": [
    {
     "name": "stderr",
     "output_type": "stream",
     "text": [
      "100%|███████████████████████████████████████████████████████████████████████████| 14000/14000 [00:28<00:00, 484.43it/s]\n",
      "100%|█████████████████████████████████████████████████████████████████████████████| 9800/9800 [00:17<00:00, 573.13it/s]\n",
      "100%|█████████████████████████████████████████████████████████████████████████████| 4200/4200 [00:05<00:00, 767.44it/s]\n",
      "100%|█████████████████████████████████████████████████████████████████████████████| 6000/6000 [00:08<00:00, 691.38it/s]\n"
     ]
    }
   ],
   "source": [
    "# average Word2Vec\n",
    "# compute average word2vec for each review.\n",
    "# the avg-w2v for each sentence/review is stored in this list= []; # the avg-w2v for each sentence/review is stored in this list = []; # the avg-w2v for each sentence/review is stored in this list\n",
    "\n",
    "\n",
    "k=0\n",
    "vectors_for_avg_w2v = []\n",
    "for i in list_of_sentance_for_w2v:\n",
    "    locals()['data_{}'.format(k)] = []\n",
    "    for sent in tqdm(i):\n",
    "       # for each review/sentence\n",
    "        sent_vec= np.zeros(50) # as word vectors are of zero length 50, you might need to change this to 300 if you use google's w2v\n",
    "        cnt_words =0; # num of words with a valid vector in the sentence/review\n",
    "        for word in sent: # for each word in a review/sentence\n",
    "            if word in locals()['w2v_words_{}'.format(k)]:\n",
    "                vec = locals()['w2v_model_{}'.format(k)].wv[word]\n",
    "                sent_vec+= vec\n",
    "                cnt_words += 1\n",
    "        if cnt_words != 0:\n",
    "            sent_vec /= cnt_words\n",
    "        locals()['data_{}'.format(k)].append(sent_vec)\n",
    "    vectors_for_avg_w2v.append(locals()['data_{}'.format(k)]) \n",
    "    k+=1\n",
    "            \n",
    "           \n",
    "##NOTE: vectors_for_avg_w2v list contains vectors representation of x_1, x_train , x_crossval , x_test.            \n",
    "         \n",
    "     "
   ]
  },
  {
   "cell_type": "markdown",
   "metadata": {},
   "source": [
    "### hyperparameter Tuning: <font color = \"red\"> GridSearchCV"
   ]
  },
  {
   "cell_type": "code",
   "execution_count": 67,
   "metadata": {},
   "outputs": [
    {
     "name": "stdout",
     "output_type": "stream",
     "text": [
      "The best sample is  100\n",
      "The best tree depth is  5\n"
     ]
    }
   ],
   "source": [
    "#performing cross validation using gridsearchcv\n",
    "from sklearn.metrics import roc_auc_score\n",
    "roc_auc_train = []\n",
    "roc_auc_cv = []\n",
    "depth = [1, 5, 10, 50, 100, 500, 100]\n",
    "samples_split = [5, 10, 100, 500]\n",
    "parameters=dict(max_depth=depth,min_samples_split=samples_split)\n",
    "clf=GridSearchCV(tree.DecisionTreeClassifier(),parameters, scoring='roc_auc', refit=True, cv=5,return_train_score = True)\n",
    "\n",
    "#fitting models\n",
    "clf.fit(vectors_for_avg_w2v[1],y_train)\n",
    "\n",
    "clf.fit(vectors_for_avg_w2v[1],y_train.ravel())\n",
    "probcv=clf.predict_proba(vectors_for_avg_w2v[2])[:,1]\n",
    "roc_auc_cv.append(roc_auc_score(y_cv.ravel(),probcv))\n",
    "probtr=clf.predict_proba(vectors_for_avg_w2v[1])[:,1]    \n",
    "roc_auc_train.append(roc_auc_score(y_train.ravel(),probtr))\n",
    "split_sam=clf.best_params_['min_samples_split']\n",
    "tree_depth=clf.best_params_['max_depth']\n",
    "print(\"The best sample is \",split_sam)\n",
    "print(\"The best tree depth is \",tree_depth)"
   ]
  },
  {
   "cell_type": "code",
   "execution_count": 68,
   "metadata": {},
   "outputs": [
    {
     "name": "stdout",
     "output_type": "stream",
     "text": [
      "Test score is 0.6250843625870844 for paramaters:{'max_depth': 1, 'min_samples_split': 5}\n",
      "Test score is 0.6250843625870844 for paramaters:{'max_depth': 1, 'min_samples_split': 10}\n",
      "Test score is 0.6250843625870844 for paramaters:{'max_depth': 1, 'min_samples_split': 100}\n",
      "Test score is 0.6250843625870844 for paramaters:{'max_depth': 1, 'min_samples_split': 500}\n",
      "Test score is 0.7256054848017062 for paramaters:{'max_depth': 5, 'min_samples_split': 5}\n",
      "Test score is 0.7255148636179886 for paramaters:{'max_depth': 5, 'min_samples_split': 10}\n",
      "Test score is 0.7260300427689341 for paramaters:{'max_depth': 5, 'min_samples_split': 100}\n",
      "Test score is 0.7210561555114086 for paramaters:{'max_depth': 5, 'min_samples_split': 500}\n",
      "Test score is 0.6699289945806526 for paramaters:{'max_depth': 10, 'min_samples_split': 5}\n",
      "Test score is 0.6780616778722451 for paramaters:{'max_depth': 10, 'min_samples_split': 10}\n",
      "Test score is 0.7256864061478168 for paramaters:{'max_depth': 10, 'min_samples_split': 100}\n",
      "Test score is 0.7251805376022393 for paramaters:{'max_depth': 10, 'min_samples_split': 500}\n",
      "Test score is 0.6401227547494632 for paramaters:{'max_depth': 50, 'min_samples_split': 5}\n",
      "Test score is 0.6521037016440324 for paramaters:{'max_depth': 50, 'min_samples_split': 10}\n",
      "Test score is 0.7231099265779876 for paramaters:{'max_depth': 50, 'min_samples_split': 100}\n",
      "Test score is 0.7252088446999021 for paramaters:{'max_depth': 50, 'min_samples_split': 500}\n",
      "Test score is 0.6380701688666706 for paramaters:{'max_depth': 100, 'min_samples_split': 5}\n",
      "Test score is 0.6561246734335305 for paramaters:{'max_depth': 100, 'min_samples_split': 10}\n",
      "Test score is 0.7237799572063187 for paramaters:{'max_depth': 100, 'min_samples_split': 100}\n",
      "Test score is 0.7251802253916033 for paramaters:{'max_depth': 100, 'min_samples_split': 500}\n",
      "Test score is 0.6361472732006938 for paramaters:{'max_depth': 500, 'min_samples_split': 5}\n",
      "Test score is 0.6559712293083909 for paramaters:{'max_depth': 500, 'min_samples_split': 10}\n",
      "Test score is 0.7233228362835638 for paramaters:{'max_depth': 500, 'min_samples_split': 100}\n",
      "Test score is 0.7251802253916033 for paramaters:{'max_depth': 500, 'min_samples_split': 500}\n",
      "Test score is 0.6407666886414182 for paramaters:{'max_depth': 100, 'min_samples_split': 5}\n",
      "Test score is 0.65233775191446 for paramaters:{'max_depth': 100, 'min_samples_split': 10}\n",
      "Test score is 0.7237029067544152 for paramaters:{'max_depth': 100, 'min_samples_split': 100}\n",
      "Test score is 0.7252088446999021 for paramaters:{'max_depth': 100, 'min_samples_split': 500}\n"
     ]
    }
   ],
   "source": [
    "mean_test_score = clf.cv_results_['mean_test_score']\n",
    "parameters = clf.cv_results_[\"params\"]\n",
    "for i in range(len(parameters)):\n",
    "    print(\"Test score is {0} for paramaters:{1}\".format(mean_test_score[i],parameters[i]))"
   ]
  },
  {
   "cell_type": "code",
   "execution_count": 69,
   "metadata": {},
   "outputs": [
    {
     "data": {
      "text/plain": [
       "DecisionTreeClassifier(class_weight=None, criterion='gini', max_depth=5,\n",
       "                       max_features=None, max_leaf_nodes=None,\n",
       "                       min_impurity_decrease=0.0, min_impurity_split=None,\n",
       "                       min_samples_leaf=1, min_samples_split=100,\n",
       "                       min_weight_fraction_leaf=0.0, presort=False,\n",
       "                       random_state=None, splitter='best')"
      ]
     },
     "execution_count": 69,
     "metadata": {},
     "output_type": "execute_result"
    }
   ],
   "source": [
    "#training the model\n",
    "w2v_avg_model = tree.DecisionTreeClassifier(max_depth = 5,min_samples_split = 100)\n",
    "w2v_avg_model.fit(vectors_for_avg_w2v[1],y_train)"
   ]
  },
  {
   "cell_type": "markdown",
   "metadata": {},
   "source": [
    "#### <font color=\"red\"> Performance Metrics"
   ]
  },
  {
   "cell_type": "code",
   "execution_count": 70,
   "metadata": {},
   "outputs": [
    {
     "name": "stdout",
     "output_type": "stream",
     "text": [
      "\n",
      "Train accuracy=69.010204%\n",
      "\n",
      "Test accuracy=5.370000e+01% \n",
      "\n",
      "Train ROC value=0.756969\n",
      "\n",
      "Test ROC value=0.527941\n",
      "\n",
      "precision=56.219178%\n",
      "\n",
      "recall=34.143095%\n",
      "\n",
      "F1-Score=42.484472%\n"
     ]
    }
   ],
   "source": [
    "pred_w2v_avg = w2v_avg_model.predict(vectors_for_avg_w2v[3])\n",
    "#train test accuracy\n",
    "train_acc_w2v_avg = w2v_avg_model.score(vectors_for_avg_w2v[1],y_train.ravel())\n",
    "test_acc_w2v_avg = w2v_avg_model.score(vectors_for_avg_w2v[3],y_test)\n",
    "\n",
    "#train test ROC value\n",
    "y_scores_w2v_avg_train = w2v_avg_model.predict_proba(vectors_for_avg_w2v[1])\n",
    "fpr,tpr,thresholds = roc_curve(y_train,y_scores_w2v_avg_train[:,1])     # only positive y_scores to be comsidered\n",
    "roc_auc_train_w2v_avg = auc(fpr,tpr)\n",
    "\n",
    "y_scores_w2v_avg_test = w2v_avg_model.predict_proba(vectors_for_avg_w2v[3])\n",
    "fpr_1,tpr_1,thresholds = roc_curve(y_test,y_scores_w2v_avg_test[:,1])     # only positive y_scores to be comsidered\n",
    "roc_auc_test_w2v_avg = auc(fpr_1,tpr_1)\n",
    "\n",
    "#Precision , recall and f1_score \n",
    "pre_w2v_avg = precision_score(y_test, pred_w2v_avg) * 100\n",
    "rec_w2v_avg = recall_score(y_test, pred_w2v_avg) * 100\n",
    "f1_w2v_avg = f1_score(y_test, pred_w2v_avg) * 100\n",
    "\n",
    "\n",
    "print(\"\\nTrain accuracy=%f%%\"% (train_acc_w2v_avg*100))\n",
    "print(\"\\nTest accuracy=%e%% \"% (test_acc_w2v_avg*100))\n",
    "print(\"\\nTrain ROC value=%f\"% (roc_auc_train_w2v_avg))\n",
    "print(\"\\nTest ROC value=%f\"% (roc_auc_test_w2v_avg))\n",
    "print('\\nprecision=%f%%' % (pre_w2v_avg))\n",
    "print('\\nrecall=%f%%' % (rec_w2v_avg))\n",
    "print('\\nF1-Score=%f%%' % (f1_w2v_avg))\n",
    "\n"
   ]
  },
  {
   "cell_type": "code",
   "execution_count": 72,
   "metadata": {},
   "outputs": [
    {
     "data": {
      "image/png": "[encoded data removed]",
      "text/plain": [
       "<Figure size 432x288 with 1 Axes>"
      ]
     },
     "metadata": {},
     "output_type": "display_data"
    }
   ],
   "source": [
    "plt.figure()\n",
    "plt.plot(fpr,tpr,label = \"roc curve for training with area({})\".format(roc_auc_train_w2v_avg))\n",
    "plt.plot(fpr_1,tpr_1,label = \"roc curve for test data with area({})\".format(roc_auc_test_w2v_avg))\n",
    "plt.legend(loc=\"lower right\")\n",
    "plt.show()"
   ]
  },
  {
   "cell_type": "code",
   "execution_count": 73,
   "metadata": {},
   "outputs": [
    {
     "data": {
      "text/plain": [
       "array([[2196,  799],\n",
       "       [1979, 1026]], dtype=int64)"
      ]
     },
     "execution_count": 73,
     "metadata": {},
     "output_type": "execute_result"
    }
   ],
   "source": [
    "#Confusion Matrix\n",
    "pred_avg_w2v = w2v_avg_model.predict(vectors_for_avg_w2v[3])    \n",
    "from sklearn.metrics import confusion_matrix\n",
    "cm_avg_w2v = confusion_matrix(y_test, pred_avg_w2v)\n",
    "cm_avg_w2v"
   ]
  },
  {
   "cell_type": "code",
   "execution_count": 74,
   "metadata": {},
   "outputs": [
    {
     "data": {
      "image/png": "[encoded data removed]",
      "text/plain": [
       "<Figure size 432x288 with 2 Axes>"
      ]
     },
     "metadata": {},
     "output_type": "display_data"
    }
   ],
   "source": [
    "class_label = [\"negative\", \"positive\"]\n",
    "df_cm = pd.DataFrame(cm_avg_w2v, index = class_label, columns = class_label)\n",
    "sns.heatmap(df_cm, annot = True, fmt = \"d\")\n",
    "plt.title(\"Confusion Matrix\")\n",
    "plt.xlabel(\"Predicted Label\")\n",
    "plt.ylabel(\"True Label\")\n",
    "plt.show()"
   ]
  },
  {
   "cell_type": "code",
   "execution_count": 113,
   "metadata": {},
   "outputs": [
    {
     "name": "stdout",
     "output_type": "stream",
     "text": [
      "+--------------+-----------+-----------+----------------+---------------+--------------+-----------+-------------+-----------+----------+\n",
      "|      CV      | max_depth | max_split | Train_error(%) | Test_error(%) | Precision(%) | Recall(%) | F1-Score(%) | Auc_train | Auc_test |\n",
      "+--------------+-----------+-----------+----------------+---------------+--------------+-----------+-------------+-----------+----------+\n",
      "| GridSearchCv |     5     |    100    |     30.99      |      46.3     |    56.22     |   34.14   |    42.48    |    0.76   |   0.53   |\n",
      "+--------------+-----------+-----------+----------------+---------------+--------------+-----------+-------------+-----------+----------+\n"
     ]
    }
   ],
   "source": [
    "from prettytable import PrettyTable\n",
    "x = PrettyTable()\n",
    "\n",
    "max_depth_avg = 5\n",
    "max_split_avg = 100\n",
    "cv = 'GridSearchCv'\n",
    "x.field_names = [\"CV\",\"max_depth\",\"max_split\",\"Train_error(%)\",\"Test_error(%)\",\"Precision(%)\",\"Recall(%)\",\"F1-Score(%)\",\"Auc_train\",\"Auc_test\"]\n",
    "\n",
    "\n",
    "err_train_w2v_avg = np.around(100 - train_acc_w2v_avg*100 , decimals = 2)\n",
    "err_test_w2v_avg =  np.around(100 - test_acc_w2v_avg*100 , decimals = 2)\n",
    "pre_w2v_avg= np.around(pre_w2v_avg, decimals = 2)\n",
    "rec_w2v_avg = np.around(rec_w2v_avg, decimals = 2)\n",
    "f1_w2v_avg = np.around(f1_w2v_avg, decimals = 2)\n",
    "AUC_train_w2v_avg = np.around(roc_auc_train_w2v_avg,decimals=2)\n",
    "AUC_test_w2v_avg = np.around(roc_auc_test_w2v_avg,decimals=2)\n",
    "\n",
    "x.add_row([cv,max_depth_avg,max_split_avg,err_train_w2v_avg,err_test_w2v_avg,pre_w2v_avg,rec_w2v_avg,f1_w2v_avg,AUC_train_w2v_avg,AUC_test_w2v_avg])\n",
    "\n",
    "\n",
    "print(x)"
   ]
  },
  {
   "cell_type": "markdown",
   "metadata": {
    "colab_type": "text",
    "id": "PnwVzXytiWO7"
   },
   "source": [
    "## [5.4] Applying Decision Trees on TFIDF W2V,<font color='red'> SET 4</font>"
   ]
  },
  {
   "cell_type": "code",
   "execution_count": 75,
   "metadata": {},
   "outputs": [],
   "source": [
    "# CONVERTING TEST DATA SET INTO TFIDF W2V REPRESENTATION.\n",
    "model = TfidfVectorizer()\n",
    "tf_idf_matrix = model.fit_transform(x_test_w2v)\n",
    "# we are converting a dictionary with word as a key, and the idf as a value\n",
    "dictionary = dict(zip(model.get_feature_names(), list(model.idf_)))"
   ]
  },
  {
   "cell_type": "code",
   "execution_count": 76,
   "metadata": {
    "colab": {},
    "colab_type": "code",
    "id": "YqODkVCgiWO7"
   },
   "outputs": [
    {
     "name": "stderr",
     "output_type": "stream",
     "text": [
      "100%|██████████████████████████████████████████████████████████████████████████████| 6000/6000 [06:44<00:00, 14.85it/s]\n"
     ]
    }
   ],
   "source": [
    "# TF-IDF weighted Word2Vec\n",
    "tfidf_feat_1 = model.get_feature_names() # tfidf words/col-names\n",
    "# final_tf_idf is the sparse matrix with row= sentence, col=word and cell_val = tfidf\n",
    "\n",
    "x_test_tfidf_w2v = []; # the tfidf-w2v for each sentence/review is stored in this list\n",
    "row=0;\n",
    "for sent in tqdm(x_test_w2v): # for each review/sentence \n",
    "    sent_vec = np.zeros(50) # as word vectors are of zero length\n",
    "    weight_sum =0; # num of words with a valid vector in the sentence/review\n",
    "    for word in sent: # for each word in a review/sentence\n",
    "        if word in w2v_words_3 and word in tfidf_feat_1:\n",
    "            vec = w2v_model_0.wv[word]\n",
    "#             tf_idf = tf_idf_matrix[row, tfidf_feat.index(word)]\n",
    "            # to reduce the computation we are \n",
    "            # dictionary[word] = idf value of word in whole courpus\n",
    "            # sent.count(word) = tf valeus of word in this review\n",
    "            tf_idf = dictionary[word]*(sent.count(word)/len(sent))\n",
    "            sent_vec += (vec * tf_idf)\n",
    "            weight_sum += tf_idf\n",
    "    if weight_sum != 0:\n",
    "        sent_vec /= weight_sum\n",
    "    x_test_tfidf_w2v.append(sent_vec)\n",
    "    row += 1"
   ]
  },
  {
   "cell_type": "code",
   "execution_count": 77,
   "metadata": {},
   "outputs": [],
   "source": [
    "# CONVERTING TRAIN DATA SET INTO TFIDF W2V REPRESENTATION.\n",
    "model = TfidfVectorizer()\n",
    "tf_idf_matrix = model.fit_transform(x_train_w2v)\n",
    "# we are converting a dictionary with word as a key, and the idf as a value\n",
    "dictionary = dict(zip(model.get_feature_names(), list(model.idf_)))"
   ]
  },
  {
   "cell_type": "code",
   "execution_count": 78,
   "metadata": {},
   "outputs": [
    {
     "name": "stderr",
     "output_type": "stream",
     "text": [
      "100%|██████████████████████████████████████████████████████████████████████████████| 9800/9800 [13:12<00:00, 12.36it/s]\n"
     ]
    }
   ],
   "source": [
    "# TF-IDF weighted Word2Vec\n",
    "tfidf_feat_1 = model.get_feature_names() # tfidf words/col-names\n",
    "# final_tf_idf is the sparse matrix with row= sentence, col=word and cell_val = tfidf\n",
    "\n",
    "x_train_tfidf_w2v = []; # the tfidf-w2v for each sentence/review is stored in this list\n",
    "row=0;\n",
    "for sent in tqdm(x_train_w2v): # for each review/sentence \n",
    "    sent_vec = np.zeros(50) # as word vectors are of zero length\n",
    "    weight_sum =0; # num of words with a valid vector in the sentence/review\n",
    "    for word in sent: # for each word in a review/sentence\n",
    "        if word in w2v_words_3 and word in tfidf_feat_1:\n",
    "            vec = w2v_model_0.wv[word]\n",
    "#             tf_idf = tf_idf_matrix[row, tfidf_feat.index(word)]\n",
    "            # to reduce the computation we are \n",
    "            # dictionary[word] = idf value of word in whole courpus\n",
    "            # sent.count(word) = tf valeus of word in this review\n",
    "            tf_idf = dictionary[word]*(sent.count(word)/len(sent))\n",
    "            sent_vec += (vec * tf_idf)\n",
    "            weight_sum += tf_idf\n",
    "    if weight_sum != 0:\n",
    "        sent_vec /= weight_sum\n",
    "    x_train_tfidf_w2v.append(sent_vec)\n",
    "    row += 1"
   ]
  },
  {
   "cell_type": "code",
   "execution_count": 79,
   "metadata": {},
   "outputs": [],
   "source": [
    "# CONVERTING CROSS VALIDATION DATA SET INTO TFIDF W2V REPRESENTATION.\n",
    "model = TfidfVectorizer()\n",
    "tf_idf_matrix = model.fit_transform(x_cv_w2v)\n",
    "# we are converting a dictionary with word as a key, and the idf as a value\n",
    "dictionary = dict(zip(model.get_feature_names(), list(model.idf_)))"
   ]
  },
  {
   "cell_type": "code",
   "execution_count": 80,
   "metadata": {},
   "outputs": [
    {
     "name": "stderr",
     "output_type": "stream",
     "text": [
      "100%|██████████████████████████████████████████████████████████████████████████████| 4200/4200 [04:09<00:00, 16.83it/s]\n"
     ]
    }
   ],
   "source": [
    "# TF-IDF weighted Word2Vec\n",
    "tfidf_feat_1 = model.get_feature_names() # tfidf words/col-names\n",
    "# final_tf_idf is the sparse matrix with row= sentence, col=word and cell_val = tfidf\n",
    "\n",
    "x_crossval_tfidf_w2v = []; # the tfidf-w2v for each sentence/review is stored in this list\n",
    "row=0;\n",
    "for sent in tqdm(x_cv_w2v): # for each review/sentence \n",
    "    sent_vec = np.zeros(50) # as word vectors are of zero length\n",
    "    weight_sum =0; # num of words with a valid vector in the sentence/review\n",
    "    for word in sent: # for each word in a review/sentence\n",
    "        if word in w2v_words_3 and word in tfidf_feat_1:\n",
    "            vec = w2v_model_0.wv[word]\n",
    "#             tf_idf = tf_idf_matrix[row, tfidf_feat.index(word)]\n",
    "            # to reduce the computation we are \n",
    "            # dictionary[word] = idf value of word in whole courpus\n",
    "            # sent.count(word) = tf valeus of word in this review\n",
    "            tf_idf = dictionary[word]*(sent.count(word)/len(sent))\n",
    "            sent_vec += (vec * tf_idf)\n",
    "            weight_sum += tf_idf\n",
    "    if weight_sum != 0:\n",
    "        sent_vec /= weight_sum\n",
    "    x_crossval_tfidf_w2v.append(sent_vec)\n",
    "    row += 1"
   ]
  },
  {
   "cell_type": "code",
   "execution_count": 81,
   "metadata": {},
   "outputs": [],
   "source": [
    "# CONVERTING CROSS VALIDATION DATA SET INTO TFIDF W2V REPRESENTATION.\n",
    "model = TfidfVectorizer()\n",
    "tf_idf_matrix = model.fit_transform(X_train_w2v)\n",
    "# we are converting a dictionary with word as a key, and the idf as a value\n",
    "dictionary = dict(zip(model.get_feature_names(), list(model.idf_)))"
   ]
  },
  {
   "cell_type": "code",
   "execution_count": 82,
   "metadata": {},
   "outputs": [
    {
     "name": "stderr",
     "output_type": "stream",
     "text": [
      "100%|████████████████████████████████████████████████████████████████████████████| 14000/14000 [29:28<00:00,  7.91it/s]\n"
     ]
    }
   ],
   "source": [
    "# TF-IDF weighted Word2Vec\n",
    "tfidf_feat_1 = model.get_feature_names() # tfidf words/col-names\n",
    "# final_tf_idf is the sparse matrix with row= sentence, col=word and cell_val = tfidf\n",
    "\n",
    "X_train_tfidf_w2v = []; # the tfidf-w2v for each sentence/review is stored in this list\n",
    "row=0;\n",
    "for sent in tqdm(X_train_w2v): # for each review/sentence \n",
    "    sent_vec = np.zeros(50) # as word vectors are of zero length\n",
    "    weight_sum =0; # num of words with a valid vector in the sentence/review\n",
    "    for word in sent: # for each word in a review/sentence\n",
    "        if word in w2v_words_3 and word in tfidf_feat_1:\n",
    "            vec = w2v_model_0.wv[word]\n",
    "#             tf_idf = tf_idf_matrix[row, tfidf_feat.index(word)]\n",
    "            # to reduce the computation we are \n",
    "            # dictionary[word] = idf value of word in whole courpus\n",
    "            # sent.count(word) = tf valeus of word in this review\n",
    "            tf_idf = dictionary[word]*(sent.count(word)/len(sent))\n",
    "            sent_vec += (vec * tf_idf)\n",
    "            weight_sum += tf_idf\n",
    "    if weight_sum != 0:\n",
    "        sent_vec /= weight_sum\n",
    "    X_train_tfidf_w2v.append(sent_vec)\n",
    "    row += 1"
   ]
  },
  {
   "cell_type": "markdown",
   "metadata": {},
   "source": [
    "### Hyperparameter Tuning:<font color = \"red\"> gridSearchCV"
   ]
  },
  {
   "cell_type": "code",
   "execution_count": 90,
   "metadata": {},
   "outputs": [
    {
     "name": "stdout",
     "output_type": "stream",
     "text": [
      "The best sample is  5\n",
      "The best tree depth is  1\n"
     ]
    }
   ],
   "source": [
    "#performing cross validation using gridsearchcv\n",
    "from sklearn.metrics import roc_auc_score\n",
    "roc_auc_train = []\n",
    "roc_auc_cv = []\n",
    "depth = [1, 5, 10, 50, 100, 500, 100]\n",
    "samples_split = [5, 10, 100, 500]\n",
    "parameters=dict(max_depth=depth,min_samples_split=samples_split)\n",
    "clf=GridSearchCV(tree.DecisionTreeClassifier(),parameters, scoring='roc_auc', refit=True, cv=5,return_train_score = True)\n",
    "\n",
    "#fitting models\n",
    "clf.fit(x_train_tfidf_w2v,y_train)\n",
    "\n",
    "\n",
    "probcv=clf.predict_proba(x_crossval_tfidf_w2v)[:,1]\n",
    "roc_auc_cv.append(roc_auc_score(y_cv.ravel(),probcv))\n",
    "probtr=clf.predict_proba(x_train_tfidf_w2v)[:,1]    \n",
    "roc_auc_train.append(roc_auc_score(y_train.ravel(),probtr))\n",
    "split_sam=clf.best_params_['min_samples_split']\n",
    "tree_depth=clf.best_params_['max_depth']\n",
    "print(\"The best sample is \",split_sam)\n",
    "print(\"The best tree depth is \",tree_depth)\n",
    "\n"
   ]
  },
  {
   "cell_type": "code",
   "execution_count": 91,
   "metadata": {},
   "outputs": [
    {
     "name": "stdout",
     "output_type": "stream",
     "text": [
      "Test score is 0.5 for paramaters:{'max_depth': 1, 'min_samples_split': 5}\n",
      "Test score is 0.5 for paramaters:{'max_depth': 1, 'min_samples_split': 10}\n",
      "Test score is 0.5 for paramaters:{'max_depth': 1, 'min_samples_split': 100}\n",
      "Test score is 0.5 for paramaters:{'max_depth': 1, 'min_samples_split': 500}\n",
      "Test score is 0.5 for paramaters:{'max_depth': 5, 'min_samples_split': 5}\n",
      "Test score is 0.5 for paramaters:{'max_depth': 5, 'min_samples_split': 10}\n",
      "Test score is 0.5 for paramaters:{'max_depth': 5, 'min_samples_split': 100}\n",
      "Test score is 0.5 for paramaters:{'max_depth': 5, 'min_samples_split': 500}\n",
      "Test score is 0.5 for paramaters:{'max_depth': 10, 'min_samples_split': 5}\n",
      "Test score is 0.5 for paramaters:{'max_depth': 10, 'min_samples_split': 10}\n",
      "Test score is 0.5 for paramaters:{'max_depth': 10, 'min_samples_split': 100}\n",
      "Test score is 0.5 for paramaters:{'max_depth': 10, 'min_samples_split': 500}\n",
      "Test score is 0.5 for paramaters:{'max_depth': 50, 'min_samples_split': 5}\n",
      "Test score is 0.5 for paramaters:{'max_depth': 50, 'min_samples_split': 10}\n",
      "Test score is 0.5 for paramaters:{'max_depth': 50, 'min_samples_split': 100}\n",
      "Test score is 0.5 for paramaters:{'max_depth': 50, 'min_samples_split': 500}\n",
      "Test score is 0.5 for paramaters:{'max_depth': 100, 'min_samples_split': 5}\n",
      "Test score is 0.5 for paramaters:{'max_depth': 100, 'min_samples_split': 10}\n",
      "Test score is 0.5 for paramaters:{'max_depth': 100, 'min_samples_split': 100}\n",
      "Test score is 0.5 for paramaters:{'max_depth': 100, 'min_samples_split': 500}\n",
      "Test score is 0.5 for paramaters:{'max_depth': 500, 'min_samples_split': 5}\n",
      "Test score is 0.5 for paramaters:{'max_depth': 500, 'min_samples_split': 10}\n",
      "Test score is 0.5 for paramaters:{'max_depth': 500, 'min_samples_split': 100}\n",
      "Test score is 0.5 for paramaters:{'max_depth': 500, 'min_samples_split': 500}\n",
      "Test score is 0.5 for paramaters:{'max_depth': 100, 'min_samples_split': 5}\n",
      "Test score is 0.5 for paramaters:{'max_depth': 100, 'min_samples_split': 10}\n",
      "Test score is 0.5 for paramaters:{'max_depth': 100, 'min_samples_split': 100}\n",
      "Test score is 0.5 for paramaters:{'max_depth': 100, 'min_samples_split': 500}\n"
     ]
    }
   ],
   "source": [
    "mean_test_score = clf.cv_results_['mean_test_score']\n",
    "parameters = clf.cv_results_[\"params\"]\n",
    "for i in range(len(parameters)):\n",
    "    print(\"Test score is {0} for paramaters:{1}\".format(mean_test_score[i],parameters[i]))"
   ]
  },
  {
   "cell_type": "code",
   "execution_count": 94,
   "metadata": {},
   "outputs": [
    {
     "data": {
      "text/plain": [
       "DecisionTreeClassifier(class_weight=None, criterion='gini', max_depth=1,\n",
       "                       max_features=None, max_leaf_nodes=None,\n",
       "                       min_impurity_decrease=0.0, min_impurity_split=None,\n",
       "                       min_samples_leaf=1, min_samples_split=5,\n",
       "                       min_weight_fraction_leaf=0.0, presort=False,\n",
       "                       random_state=None, splitter='best')"
      ]
     },
     "execution_count": 94,
     "metadata": {},
     "output_type": "execute_result"
    }
   ],
   "source": [
    "#training the model\n",
    "tfidf_w2v_model = tree.DecisionTreeClassifier(max_depth = 1,min_samples_split = 5)\n",
    "tfidf_w2v_model.fit(x_train_tfidf_w2v,y_train)"
   ]
  },
  {
   "cell_type": "markdown",
   "metadata": {},
   "source": [
    "#### <font color = \"red\"> Performance Metrics"
   ]
  },
  {
   "cell_type": "code",
   "execution_count": 95,
   "metadata": {},
   "outputs": [
    {
     "name": "stdout",
     "output_type": "stream",
     "text": [
      "\n",
      "Train accuracy=50.020408%\n",
      "\n",
      "Test accuracy=5.008333e+01% \n",
      "\n",
      "Train ROC value=0.500000\n",
      "\n",
      "Test ROC value=0.500000\n",
      "\n",
      "precision=50.083333%\n",
      "\n",
      "recall=100.000000%\n",
      "\n",
      "F1-Score=66.740700%\n"
     ]
    }
   ],
   "source": [
    "pred_tfidf_w2v = tfidf_w2v_model.predict(x_test_tfidf_w2v)\n",
    "#train test accuracy\n",
    "train_acc_tfidf_w2v = tfidf_w2v_model.score(x_train_tfidf_w2v,y_train.ravel())\n",
    "test_acc_tfidf_w2v = tfidf_w2v_model.score(x_test_tfidf_w2v,y_test)\n",
    "\n",
    "#train test ROC value\n",
    "y_scores_tfidf_w2v_train = tfidf_w2v_model.predict_proba(x_train_tfidf_w2v)\n",
    "fpr,tpr,thresholds = roc_curve(y_train,y_scores_tfidf_w2v_train[:,1])     # only positive y_scores to be comsidered\n",
    "roc_auc_train_tfidf_w2v = auc(fpr,tpr)\n",
    "\n",
    "y_scores_tfidf_w2v_test = tfidf_w2v_model.predict_proba(x_test_tfidf_w2v)\n",
    "fpr_1,tpr_1,thresholds = roc_curve(y_test,y_scores_tfidf_w2v_test[:,1])     # only positive y_scores to be comsidered\n",
    "roc_auc_test_tfidf_w2v = auc(fpr_1,tpr_1)\n",
    "\n",
    "#Precision , recall and f1_score \n",
    "pre_tfidf_w2v = precision_score(y_test, pred_tfidf_w2v) * 100\n",
    "rec_tfidf_w2v = recall_score(y_test, pred_tfidf_w2v) * 100\n",
    "f1_tfidf_w2v = f1_score(y_test, pred_tfidf_w2v) * 100\n",
    "\n",
    "\n",
    "print(\"\\nTrain accuracy=%f%%\"% (train_acc_tfidf_w2v*100))\n",
    "print(\"\\nTest accuracy=%e%% \"% (test_acc_tfidf_w2v*100))\n",
    "print(\"\\nTrain ROC value=%f\"% (roc_auc_train_tfidf_w2v))\n",
    "print(\"\\nTest ROC value=%f\"% (roc_auc_test_tfidf_w2v))\n",
    "print('\\nprecision=%f%%' % (pre_tfidf_w2v))\n",
    "print('\\nrecall=%f%%' % (rec_tfidf_w2v))\n",
    "print('\\nF1-Score=%f%%' % (f1_tfidf_w2v))\n",
    "\n"
   ]
  },
  {
   "cell_type": "code",
   "execution_count": 97,
   "metadata": {},
   "outputs": [
    {
     "data": {
      "image/png": "[encoded data removed]",
      "text/plain": [
       "<Figure size 432x288 with 1 Axes>"
      ]
     },
     "metadata": {},
     "output_type": "display_data"
    }
   ],
   "source": [
    "plt.figure()\n",
    "plt.plot(fpr,tpr,label = \"roc curve for training with area({})\".format(roc_auc_train_tfidf_w2v))\n",
    "plt.plot(fpr_1,tpr_1,label = \"roc curve for test data with area({})\".format(roc_auc_test_tfidf_w2v))\n",
    "plt.legend(loc=\"lower right\")\n",
    "plt.show()"
   ]
  },
  {
   "cell_type": "code",
   "execution_count": 101,
   "metadata": {},
   "outputs": [
    {
     "data": {
      "text/plain": [
       "array([[   0, 2995],\n",
       "       [   0, 3005]], dtype=int64)"
      ]
     },
     "execution_count": 101,
     "metadata": {},
     "output_type": "execute_result"
    }
   ],
   "source": [
    "#Confusion Matrix\n",
    "pred_w2v_tfidf = tfidf_w2v_model.predict(x_test_tfidf_w2v)    \n",
    "from sklearn.metrics import confusion_matrix\n",
    "cm_w2v_tfidf = confusion_matrix(y_test, pred_w2v_tfidf)\n",
    "cm_w2v_tfidf"
   ]
  },
  {
   "cell_type": "code",
   "execution_count": 102,
   "metadata": {},
   "outputs": [
    {
     "data": {
      "image/png": "[encoded data removed]",
      "text/plain": [
       "<Figure size 432x288 with 2 Axes>"
      ]
     },
     "metadata": {},
     "output_type": "display_data"
    }
   ],
   "source": [
    "class_label = [\"negative\", \"positive\"]\n",
    "df_cm = pd.DataFrame(cm_w2v_tfidf, index = class_label, columns = class_label)\n",
    "sns.heatmap(df_cm, annot = True, fmt = \"d\")\n",
    "plt.title(\"Confusion Matrix\")\n",
    "plt.xlabel(\"Predicted Label\")\n",
    "plt.ylabel(\"True Label\")\n",
    "plt.show()"
   ]
  },
  {
   "cell_type": "code",
   "execution_count": 114,
   "metadata": {},
   "outputs": [
    {
     "name": "stdout",
     "output_type": "stream",
     "text": [
      "+--------------+-----------+-----------+----------------+---------------+--------------+-----------+-------------+-----------+----------+\n",
      "|      CV      | max_depth | max_split | Train_error(%) | Test_error(%) | Precision(%) | Recall(%) | F1-Score(%) | Auc_train | Auc_test |\n",
      "+--------------+-----------+-----------+----------------+---------------+--------------+-----------+-------------+-----------+----------+\n",
      "| GridSearchCv |     1     |     5     |     49.98      |     49.92     |    50.08     |   100.0   |    66.74    |    0.5    |   0.5    |\n",
      "+--------------+-----------+-----------+----------------+---------------+--------------+-----------+-------------+-----------+----------+\n"
     ]
    }
   ],
   "source": [
    "from prettytable import PrettyTable\n",
    "x = PrettyTable()\n",
    "\n",
    "max_depth_w2v = 1\n",
    "max_split_w2v = 5\n",
    "cv = 'GridSearchCv'\n",
    "x.field_names = [\"CV\",\"max_depth\",\"max_split\",\"Train_error(%)\",\"Test_error(%)\",\"Precision(%)\",\"Recall(%)\",\"F1-Score(%)\",\"Auc_train\",\"Auc_test\"]\n",
    "\n",
    "\n",
    "err_train_tfidf_w2v = np.around(100 - train_acc_tfidf_w2v*100 , decimals = 2)\n",
    "err_test_tfidf_w2v =  np.around(100 - test_acc_tfidf_w2v*100 , decimals = 2)\n",
    "pre_tfidf_w2v= np.around(pre_tfidf_w2v, decimals = 2)\n",
    "rec_tfidf_w2v = np.around(rec_tfidf_w2v, decimals = 2)\n",
    "f1_tfidf_w2v = np.around(f1_tfidf_w2v, decimals = 2)\n",
    "AUC_train_tfidf_w2v = np.around(roc_auc_train_tfidf_w2v,decimals=2)\n",
    "AUC_test_tfidf_w2v = np.around(roc_auc_test_tfidf_w2v,decimals=2)\n",
    "\n",
    "x.add_row([cv,max_depth_w2v,max_split_w2v,err_train_tfidf_w2v,err_test_tfidf_w2v,pre_tfidf_w2v,rec_tfidf_w2v,f1_tfidf_w2v,AUC_train_tfidf_w2v,AUC_test_tfidf_w2v])\n",
    "\n",
    "\n",
    "print(x)"
   ]
  },
  {
   "cell_type": "code",
   "execution_count": 125,
   "metadata": {
    "colab": {},
    "colab_type": "code",
    "id": "3Hnu2QziiWO9"
   },
   "outputs": [
    {
     "name": "stdout",
     "output_type": "stream",
     "text": [
      "+--------------+-----------+----------------+---------------+-------------+-----------+----------+\n",
      "|      CV      |   Model   | Train_error(%) | Test_error(%) | F1-Score(%) | Auc_train | Auc_test |\n",
      "+--------------+-----------+----------------+---------------+-------------+-----------+----------+\n",
      "| GridSearchCv |    bow    |     21.72      |     27.35     |    73.47    |    0.87   |   0.79   |\n",
      "| GridSearchCv |   tfidf   |     18.46      |      26.9     |    74.56    |    0.89   |   0.79   |\n",
      "| GridSearchCv |  w2v_avg  |     30.99      |      46.3     |    42.48    |    0.76   |   0.53   |\n",
      "| GridSearchCv | tfidf_w2v |     49.98      |     49.92     |    66.74    |    0.5    |   0.5    |\n",
      "+--------------+-----------+----------------+---------------+-------------+-----------+----------+\n"
     ]
    }
   ],
   "source": [
    "from prettytable import PrettyTable\n",
    "x = PrettyTable()\n",
    "\n",
    "\n",
    "cv = 'GridSearchCv'\n",
    "x.field_names = [\"CV\",\"Model\",\"Train_error(%)\",\"Test_error(%)\",\"F1-Score(%)\",\"Auc_train\",\"Auc_test\"]\n",
    "model1=\"bow\"\n",
    "model2=\"tfidf\"\n",
    "model3=\"w2v_avg\"\n",
    "model4=\"tfidf_w2v\"\n",
    "\n",
    "\n",
    "x.add_row([cv,model1,err_train_bow,err_test_bow,f1_bow,AUC_train_bow,AUC_test_bow])\n",
    "x.add_row([cv,model2,err_train_tfidf,err_test_tfidf,f1_tfidf,AUC_train_tfidf,AUC_test_tfidf])\n",
    "x.add_row([cv,model3,err_train_w2v_avg,err_test_w2v_avg,f1_w2v_avg,AUC_train_w2v_avg,AUC_test_w2v_avg])\n",
    "x.add_row([cv,model4,err_train_tfidf_w2v,err_test_tfidf_w2v,f1_tfidf_w2v,AUC_train_tfidf_w2v,AUC_test_tfidf_w2v])\n",
    "\n",
    "\n",
    "print(x)"
   ]
  },
  {
   "cell_type": "markdown",
   "metadata": {},
   "source": [
    "# [6] Conclusions\n",
    "1. Decision Tree Algorithm with TFIDF representation is the best model so far with lowest error and higher AUC value.\n",
    "2. Word2Vec representation should not be used with Decision Tree Algorithm for classification.\n",
    "3. Decision Tree can be used for classification with Bow and Tfidf vector representation of text, considering more data's will give more better result for both models.\n",
    "4. Given Dataset is Imbalanced so before training, it ought to be Balanced."
   ]
  }
 ],
 "metadata": {
  "colab": {
   "collapsed_sections": [
    "NTwQITJKiWN5",
    "T_LFck8iiWOX",
    "mjfrB76yiWOa",
    "0tcbbZxSiWOd",
    "u566lt93iWOf",
    "mUNnof40iWOl",
    "heHLB_FCiWOm",
    "ylTn3LgiiWOo",
    "NVhl_V6MiWO5",
    "PnwVzXytiWO7"
   ],
   "name": "08 Amazon Fine Food Reviews Analysis_Decision Trees.ipynb",
   "provenance": [],
   "version": "0.3.2"
  },
  "kernelspec": {
   "display_name": "Python 3",
   "language": "python",
   "name": "python3"
  },
  "language_info": {
   "codemirror_mode": {
    "name": "ipython",
    "version": 3
   },
   "file_extension": ".py",
   "mimetype": "text/x-python",
   "name": "python",
   "nbconvert_exporter": "python",
   "pygments_lexer": "ipython3",
   "version": "3.6.5"
  }
 },
 "nbformat": 4,
 "nbformat_minor": 1
}
